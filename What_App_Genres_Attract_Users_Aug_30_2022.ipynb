{
 "cells": [
  {
   "cell_type": "markdown",
   "metadata": {},
   "source": [
    "# What App Genres Attract Users?"
   ]
  },
  {
   "cell_type": "markdown",
   "metadata": {},
   "source": [
    "For this project, I'm working as a data analyst for a company that builds Android and iOS mobile apps. We make our apps available on Google Play and in the App Store.\n",
    "\n",
    "We only build apps that are free to download and install, and our main source of revenue consists of in-app ads. This means that the number of users of our apps determines our revenue for any given app — the more users who see and engage with the ads, the better. Our goal for this project is to analyze data to help our developers understand **what type of apps are likely to attract more users**. We will do so using data from the [Google Play Store](https://www.kaggle.com/datasets/lava18/google-play-store-apps) and from the [Apple Store](https://www.kaggle.com/datasets/ramamet4/app-store-apple-data-set-10k-apps), given that these existing samples should be able to tell us generalizable information relevant to our mission."
   ]
  },
  {
   "cell_type": "markdown",
   "metadata": {},
   "source": [
    "## Importing the Data Sets"
   ]
  },
  {
   "cell_type": "code",
   "execution_count": 1,
   "metadata": {},
   "outputs": [],
   "source": [
    "opened_file = open('C:/Users/Curtiss Chapman/Desktop/Data Science Training/Dataquest/Data Scientist in Python/Datasets/AppleStore.csv', encoding='utf8')\n",
    "from csv import reader\n",
    "read_file = reader(opened_file)\n",
    "apple_data = list(read_file)\n",
    "\n",
    "opened_file = open('C:/Users/Curtiss Chapman/Desktop/Data Science Training/Dataquest/Data Scientist in Python/Datasets/googleplaystore.csv', encoding='utf8')\n",
    "read_file = reader(opened_file)\n",
    "google_data = list(read_file)\n"
   ]
  },
  {
   "cell_type": "markdown",
   "metadata": {},
   "source": [
    "## Defining Key Functions"
   ]
  },
  {
   "cell_type": "markdown",
   "metadata": {},
   "source": [
    "We'll want a function to look easily at our data sets, checking a particular slice of data and displaying the number of rows and columns."
   ]
  },
  {
   "cell_type": "code",
   "execution_count": 2,
   "metadata": {},
   "outputs": [],
   "source": [
    "def explore_data(dataset, start, end, rows_and_columns=False):\n",
    "    dataset_slice = dataset[start:end]    \n",
    "    for row in dataset_slice:\n",
    "        print(row)\n",
    "        print('\\n') # adds a new (empty) line after each row\n",
    "\n",
    "    if rows_and_columns:\n",
    "        print('Number of rows:', len(dataset))\n",
    "        print('Number of columns:', len(dataset[0]))"
   ]
  },
  {
   "cell_type": "markdown",
   "metadata": {},
   "source": [
    "## Exploring the Data"
   ]
  },
  {
   "cell_type": "markdown",
   "metadata": {},
   "source": [
    "First, here are keys to the dataset variables:\n",
    "\n",
    "| Store | Column name | Description |\n",
    "| --- | --- | --- |\n",
    "| Apple | \"id\" | App ID |\n",
    "| Apple | \"track name\" | App Name |\n",
    "| Apple | \"size_bytes\" | Size (Bytes) |\n",
    "| Apple | \"currency\" | Currency Type |\n",
    "| Apple | \"price\" | Price amount |\n",
    "| Apple | \"rating_count_tot\" | User Rating counts (for all version) |\n",
    "| Apple | \"rating_count_ver\" | User Rating counts (for current version) |\n",
    "| Apple | \"user_rating\" | Average User Rating value (for all version) |\n",
    "| Apple | \"user_rating_ver\" | Average User Rating value (for current version) |\n",
    "| Apple | \"ver\" | Latest version code |\n",
    "| Apple | \"cont_rating\" | Content Rating |\n",
    "| Apple | \"prime_genre\" | Primary Genre |\n",
    "| Apple | \"sup_devices.num\" | Number of supporting devices |\n",
    "| Apple | \"ipadSc_urls.num\" | Number of screenshots showed for display |\n",
    "| Apple | \"lang.num\" | Number of supported languages |\n",
    "| Apple | \"vpp_lic\" | Vpp Device Based Licensing Enabled |\n",
    "| Google | \"App\" | App ID |\n",
    "| Google | \"Category\" | Primary Genre |\n",
    "| Google | \"Rating\" | Average User Rating |\n",
    "| Google | \"Reviews\" | Number of Reviews |\n",
    "| Google | \"Size\" | Size |\n",
    "| Google | \"Installs\" | Number of downloads/installs |\n",
    "| Google | \"Type\" | Paid or Free |\n",
    "| Google | \"Price\" | Price |\n",
    "| Google | \"Content Rating\" | Content Rating |\n",
    "| Google | \"Genres\" | All Genres |\n",
    "| Google | \"Last Updated\" | Date Last Updated |\n",
    "| Google | \"Current Ver\" | Current Version |\n",
    "| Google | \"Android Ver\" | Android Version |"
   ]
  },
  {
   "cell_type": "code",
   "execution_count": 3,
   "metadata": {},
   "outputs": [
    {
     "name": "stdout",
     "output_type": "stream",
     "text": [
      "\n",
      "--- Google Data --- \n",
      "['App', 'Category', 'Rating', 'Reviews', 'Size', 'Installs', 'Type', 'Price', 'Content Rating', 'Genres', 'Last Updated', 'Current Ver', 'Android Ver']\n",
      "\n",
      "\n",
      "['Photo Editor & Candy Camera & Grid & ScrapBook', 'ART_AND_DESIGN', '4.1', '159', '19M', '10,000+', 'Free', '0', 'Everyone', 'Art & Design', 'January 7, 2018', '1.0.0', '4.0.3 and up']\n",
      "\n",
      "\n",
      "['Coloring book moana', 'ART_AND_DESIGN', '3.9', '967', '14M', '500,000+', 'Free', '0', 'Everyone', 'Art & Design;Pretend Play', 'January 15, 2018', '2.0.0', '4.0.3 and up']\n",
      "\n",
      "\n",
      "['U Launcher Lite – FREE Live Cool Themes, Hide Apps', 'ART_AND_DESIGN', '4.7', '87510', '8.7M', '5,000,000+', 'Free', '0', 'Everyone', 'Art & Design', 'August 1, 2018', '1.2.4', '4.0.3 and up']\n",
      "\n",
      "\n",
      "['Sketch - Draw & Paint', 'ART_AND_DESIGN', '4.5', '215644', '25M', '50,000,000+', 'Free', '0', 'Teen', 'Art & Design', 'June 8, 2018', 'Varies with device', '4.2 and up']\n",
      "\n",
      "\n",
      "Number of rows: 10842\n",
      "Number of columns: 13\n",
      "--- Apple Data --- \n",
      "['', 'id', 'track_name', 'size_bytes', 'currency', 'price', 'rating_count_tot', 'rating_count_ver', 'user_rating', 'user_rating_ver', 'ver', 'cont_rating', 'prime_genre', 'sup_devices.num', 'ipadSc_urls.num', 'lang.num', 'vpp_lic']\n",
      "\n",
      "\n",
      "['1', '281656475', 'PAC-MAN Premium', '100788224', 'USD', '3.99', '21292', '26', '4', '4.5', '6.3.5', '4+', 'Games', '38', '5', '10', '1']\n",
      "\n",
      "\n",
      "['2', '281796108', 'Evernote - stay organized', '158578688', 'USD', '0', '161065', '26', '4', '3.5', '8.2.2', '4+', 'Productivity', '37', '5', '23', '1']\n",
      "\n",
      "\n",
      "['3', '281940292', 'WeatherBug - Local Weather, Radar, Maps, Alerts', '100524032', 'USD', '0', '188583', '2822', '3.5', '4.5', '5.0.0', '4+', 'Weather', '37', '5', '3', '1']\n",
      "\n",
      "\n",
      "['4', '282614216', 'eBay: Best App to Buy, Sell, Save! Online Shopping', '128512000', 'USD', '0', '262241', '649', '4', '4.5', '5.10.0', '12+', 'Shopping', '37', '5', '9', '1']\n",
      "\n",
      "\n",
      "Number of rows: 7198\n",
      "Number of columns: 17\n"
     ]
    }
   ],
   "source": [
    "print('\\n--- Google Data --- ')\n",
    "explore_data(google_data, 0, 5, rows_and_columns=True)\n",
    "print('--- Apple Data --- ')\n",
    "explore_data(apple_data, 0, 5, rows_and_columns=True)"
   ]
  },
  {
   "cell_type": "markdown",
   "metadata": {},
   "source": [
    "Quite a few variables seem intersting for looking into what drives app popularity. \n",
    "\n",
    "In the Google data set, the most interesting are `Category`, `Rating`, `Reviews`, `Installs`, and `Genres`. \n",
    "\n",
    "In the Apple data set, the most interesting are `rating_count_tot`, `user_rating`, `prime_genre`, and `sup_devices.num`. \n",
    "\n",
    "Of these interesting variables, those that seem comparable across data sets are `Category` with `prime_genre` and `Reviews` or `Installs` with `rating_count_tot`."
   ]
  },
  {
   "cell_type": "markdown",
   "metadata": {},
   "source": [
    "## Cleaning the Data"
   ]
  },
  {
   "cell_type": "markdown",
   "metadata": {},
   "source": [
    "### First, find app with missing data (from Google dataset discussion) and delete it."
   ]
  },
  {
   "cell_type": "code",
   "execution_count": 4,
   "metadata": {},
   "outputs": [
    {
     "name": "stdout",
     "output_type": "stream",
     "text": [
      "['Tassa.fi Finland', 'LIFESTYLE', '3.6', '346', '7.5M', '50,000+', 'Free', '0', 'Everyone', 'Lifestyle', 'May 22, 2018', '5.5', '4.0 and up']\n",
      "\n",
      "\n",
      "['TownWiFi | Wi-Fi Everywhere', 'COMMUNICATION', '3.9', '2372', '58M', '500,000+', 'Free', '0', 'Everyone', 'Communication', 'August 2, 2018', '4.2.1', '4.2 and up']\n",
      "\n",
      "\n",
      "['Jazz Wi-Fi', 'COMMUNICATION', '3.4', '49', '4.0M', '10,000+', 'Free', '0', 'Everyone', 'Communication', 'February 10, 2017', '0.1', '2.3 and up']\n",
      "\n",
      "\n",
      "['Xposed Wi-Fi-Pwd', 'PERSONALIZATION', '3.5', '1042', '404k', '100,000+', 'Free', '0', 'Everyone', 'Personalization', 'August 5, 2014', '3.0.0', '4.0.3 and up']\n",
      "\n",
      "\n",
      "['Life Made WI-Fi Touchscreen Photo Frame', '1.9', '19', '3.0M', '1,000+', 'Free', '0', 'Everyone', '', 'February 11, 2018', '1.0.19', '4.0 and up']\n",
      "\n",
      "\n",
      "['osmino Wi-Fi: free WiFi', 'TOOLS', '4.2', '134203', '4.1M', '10,000,000+', 'Free', '0', 'Everyone', 'Tools', 'August 7, 2018', '6.06.14', '4.4 and up']\n",
      "\n",
      "\n",
      "['Life Made WI-Fi Touchscreen Photo Frame', '1.9', '19', '3.0M', '1,000+', 'Free', '0', 'Everyone', '', 'February 11, 2018', '1.0.19', '4.0 and up']\n"
     ]
    }
   ],
   "source": [
    "explore_data(google_data, 10469, 10475)\n",
    "print(google_data[10473])\n"
   ]
  },
  {
   "cell_type": "markdown",
   "metadata": {},
   "source": [
    "Row 10473 ('Life Made WI-Fi Touchscreen Photo Frame') is missing a category. Because we can't recover the category label, let's delete it."
   ]
  },
  {
   "cell_type": "code",
   "execution_count": 5,
   "metadata": {},
   "outputs": [],
   "source": [
    "del google_data[10473]"
   ]
  },
  {
   "cell_type": "markdown",
   "metadata": {},
   "source": [
    "And then we'll check the data set to make sure it's gone."
   ]
  },
  {
   "cell_type": "code",
   "execution_count": 6,
   "metadata": {},
   "outputs": [
    {
     "name": "stdout",
     "output_type": "stream",
     "text": [
      "['Tassa.fi Finland', 'LIFESTYLE', '3.6', '346', '7.5M', '50,000+', 'Free', '0', 'Everyone', 'Lifestyle', 'May 22, 2018', '5.5', '4.0 and up']\n",
      "\n",
      "\n",
      "['TownWiFi | Wi-Fi Everywhere', 'COMMUNICATION', '3.9', '2372', '58M', '500,000+', 'Free', '0', 'Everyone', 'Communication', 'August 2, 2018', '4.2.1', '4.2 and up']\n",
      "\n",
      "\n",
      "['Jazz Wi-Fi', 'COMMUNICATION', '3.4', '49', '4.0M', '10,000+', 'Free', '0', 'Everyone', 'Communication', 'February 10, 2017', '0.1', '2.3 and up']\n",
      "\n",
      "\n",
      "['Xposed Wi-Fi-Pwd', 'PERSONALIZATION', '3.5', '1042', '404k', '100,000+', 'Free', '0', 'Everyone', 'Personalization', 'August 5, 2014', '3.0.0', '4.0.3 and up']\n",
      "\n",
      "\n",
      "['osmino Wi-Fi: free WiFi', 'TOOLS', '4.2', '134203', '4.1M', '10,000,000+', 'Free', '0', 'Everyone', 'Tools', 'August 7, 2018', '6.06.14', '4.4 and up']\n",
      "\n",
      "\n",
      "['Sat-Fi Voice', 'COMMUNICATION', '3.4', '37', '14M', '1,000+', 'Free', '0', 'Everyone', 'Communication', 'November 21, 2014', '2.2.1.5', '2.2 and up']\n",
      "\n",
      "\n"
     ]
    }
   ],
   "source": [
    "explore_data(google_data, 10469, 10475)"
   ]
  },
  {
   "cell_type": "markdown",
   "metadata": {},
   "source": [
    "It's gone."
   ]
  },
  {
   "cell_type": "markdown",
   "metadata": {},
   "source": [
    "### Are all rows the same length in both data sets?"
   ]
  },
  {
   "cell_type": "markdown",
   "metadata": {},
   "source": [
    "Now we'll create a function that creates a frequency table for number of columns in the data set, which we can use for both data sets.\n"
   ]
  },
  {
   "cell_type": "code",
   "execution_count": 7,
   "metadata": {},
   "outputs": [],
   "source": [
    "def ft_ncols(dataset):\n",
    "    ncols_ft = {}\n",
    "\n",
    "    for row in dataset:\n",
    "        ncols = str(len(row))\n",
    "        #print(ncols)\n",
    "        if ncols in ncols_ft:\n",
    "            ncols_ft[ncols] += 1\n",
    "        elif ncols not in ncols_ft:\n",
    "            ncols_ft[ncols] = 1\n",
    "        \n",
    "    print(ncols_ft)\n"
   ]
  },
  {
   "cell_type": "markdown",
   "metadata": {},
   "source": [
    "We can use this function to take a look at whether there is more than one variable representing the number of columns in the data set."
   ]
  },
  {
   "cell_type": "code",
   "execution_count": 8,
   "metadata": {},
   "outputs": [
    {
     "name": "stdout",
     "output_type": "stream",
     "text": [
      "Google\n",
      "{'13': 10841}\n",
      "Apple\n",
      "{'17': 7198}\n"
     ]
    }
   ],
   "source": [
    "print('Google')\n",
    "ft_ncols(google_data)\n",
    "print('Apple')\n",
    "ft_ncols(apple_data)"
   ]
  },
  {
   "cell_type": "markdown",
   "metadata": {},
   "source": [
    "Because there is only one length of each row, we know that all rows are the same length in each data set."
   ]
  },
  {
   "cell_type": "markdown",
   "metadata": {},
   "source": [
    "### Are there duplicate apps in either data set?"
   ]
  },
  {
   "cell_type": "markdown",
   "metadata": {},
   "source": [
    "In any data set, we want to be wary that there are no duplicated entries. Here, we check each data set for applications that appear more than once."
   ]
  },
  {
   "cell_type": "code",
   "execution_count": 9,
   "metadata": {},
   "outputs": [
    {
     "name": "stdout",
     "output_type": "stream",
     "text": [
      "Apple\n",
      "0\n",
      "Google\n",
      "1181\n"
     ]
    }
   ],
   "source": [
    "unique_apps_apple = [] \n",
    "duplicate_apps_apple = [] \n",
    "\n",
    "for app in apple_data: \n",
    "    app_name = app[1] \n",
    "\n",
    "    if app_name not in unique_apps_apple:\n",
    "        unique_apps_apple.append(app_name)\n",
    "    else:\n",
    "        duplicate_apps_apple.append(app_name)\n",
    "            \n",
    "unique_apps_google = [] \n",
    "duplicate_apps_google = [] \n",
    "\n",
    "for app in google_data: \n",
    "    app_name = app[0] \n",
    "\n",
    "    if app_name not in unique_apps_google:\n",
    "        unique_apps_google.append(app_name)\n",
    "    else:\n",
    "        duplicate_apps_google.append(app_name)\n",
    "        \n",
    "print('Apple')      \n",
    "print(len(duplicate_apps_apple))\n",
    "print('Google')\n",
    "print(len(duplicate_apps_google))\n"
   ]
  },
  {
   "cell_type": "markdown",
   "metadata": {},
   "source": [
    "There are no duplicates in the Apple store, but there are lots of duplicates in the Google app store. Let's look at a few in the context of the data to see what we might use to distinguish them and trim them."
   ]
  },
  {
   "cell_type": "code",
   "execution_count": 10,
   "metadata": {},
   "outputs": [
    {
     "name": "stdout",
     "output_type": "stream",
     "text": [
      "['Quick PDF Scanner + OCR FREE', 'BUSINESS', '4.2', '80805', 'Varies with device', '5,000,000+', 'Free', '0', 'Everyone', 'Business', 'February 26, 2018', 'Varies with device', '4.0.3 and up']\n",
      "['Quick PDF Scanner + OCR FREE', 'BUSINESS', '4.2', '80805', 'Varies with device', '5,000,000+', 'Free', '0', 'Everyone', 'Business', 'February 26, 2018', 'Varies with device', '4.0.3 and up']\n",
      "['Quick PDF Scanner + OCR FREE', 'BUSINESS', '4.2', '80804', 'Varies with device', '5,000,000+', 'Free', '0', 'Everyone', 'Business', 'February 26, 2018', 'Varies with device', '4.0.3 and up']\n",
      "['Box', 'BUSINESS', '4.2', '159872', 'Varies with device', '10,000,000+', 'Free', '0', 'Everyone', 'Business', 'July 31, 2018', 'Varies with device', 'Varies with device']\n",
      "['Box', 'BUSINESS', '4.2', '159872', 'Varies with device', '10,000,000+', 'Free', '0', 'Everyone', 'Business', 'July 31, 2018', 'Varies with device', 'Varies with device']\n",
      "['Box', 'BUSINESS', '4.2', '159872', 'Varies with device', '10,000,000+', 'Free', '0', 'Everyone', 'Business', 'July 31, 2018', 'Varies with device', 'Varies with device']\n",
      "['Google My Business', 'BUSINESS', '4.4', '70991', 'Varies with device', '5,000,000+', 'Free', '0', 'Everyone', 'Business', 'July 24, 2018', '2.19.0.204537701', '4.4 and up']\n",
      "['Google My Business', 'BUSINESS', '4.4', '70991', 'Varies with device', '5,000,000+', 'Free', '0', 'Everyone', 'Business', 'July 24, 2018', '2.19.0.204537701', '4.4 and up']\n",
      "['Google My Business', 'BUSINESS', '4.4', '70991', 'Varies with device', '5,000,000+', 'Free', '0', 'Everyone', 'Business', 'July 24, 2018', '2.19.0.204537701', '4.4 and up']\n"
     ]
    }
   ],
   "source": [
    "for app in google_data:\n",
    "    if app[0] == 'Quick PDF Scanner + OCR FREE':\n",
    "        print(app)\n",
    "    \n",
    "for app in google_data:\n",
    "    if app[0] == 'Box':\n",
    "        print(app)\n",
    "        \n",
    "for app in google_data:\n",
    "    if app[0] == 'Google My Business':\n",
    "        print(app)\n",
    "    "
   ]
  },
  {
   "cell_type": "markdown",
   "metadata": {},
   "source": [
    "We want to remove duplicates so that we're not counting apps more than once, but don't want to remove the duplicates randomly. The main variable that seems to differ between the duplicates is the number of reviews. Given that we want to know what features draw more users to apps, it may be helpful to keep entries with more reviews. More reviews should give a more representative overall rating variable, and we expect overall rating to relate to the draw of the app."
   ]
  },
  {
   "cell_type": "markdown",
   "metadata": {},
   "source": [
    "To do so, we'll first make a dictionary of the maximum number of reviews for each app."
   ]
  },
  {
   "cell_type": "code",
   "execution_count": 11,
   "metadata": {},
   "outputs": [],
   "source": [
    "g_reviews_max = {}\n",
    "\n",
    "for row in google_data[1:]:\n",
    "    name = row[0]\n",
    "    reviews = float(row[3])\n",
    "    if (name in g_reviews_max and g_reviews_max[name] <= reviews):\n",
    "        g_reviews_max[name] = reviews\n",
    "    else:\n",
    "        g_reviews_max[name] = reviews\n",
    "        \n",
    "#print(g_reviews_max)"
   ]
  },
  {
   "cell_type": "markdown",
   "metadata": {},
   "source": [
    "Then, we'll use that dictionary to create a new data set, where rows from the old dataset are only included if they match the maximum number of reviews for a given app and have not yet been added to the data set."
   ]
  },
  {
   "cell_type": "code",
   "execution_count": 12,
   "metadata": {},
   "outputs": [
    {
     "name": "stdout",
     "output_type": "stream",
     "text": [
      "9659\n"
     ]
    }
   ],
   "source": [
    "google_clean = []\n",
    "already_added = []\n",
    "\n",
    "for row in google_data[1:]:\n",
    "    name = row[0]\n",
    "    reviews = float(row[3])\n",
    "    if reviews == g_reviews_max[name] and name not in already_added:\n",
    "        google_clean.append(row)\n",
    "        already_added.append(name)\n",
    "        \n",
    "print(len(google_clean))"
   ]
  },
  {
   "cell_type": "markdown",
   "metadata": {},
   "source": [
    "### Remove non-English entries from the data set"
   ]
  },
  {
   "cell_type": "markdown",
   "metadata": {},
   "source": [
    "Looking through the data, we find that some app names suggest they're not direct toward an English-speaking audience. Because our target audience will be English-speaking, we don't want these apps to count toward our strategy. We'll remove them from the data set.\n",
    "\n",
    "Commonly used English text characters range from 0 to 127 in the ASCII system, so we can use this ASCII range to filter the datasets further with the function `ord()`."
   ]
  },
  {
   "cell_type": "markdown",
   "metadata": {},
   "source": [
    "First, we'll write a function that determines if any character in a string is a non-English character. If it encounters a non-English character, the loop stops and returns \"False\". If it finishes processing the word and no character is non-English, it returns \"True\"."
   ]
  },
  {
   "cell_type": "code",
   "execution_count": 13,
   "metadata": {},
   "outputs": [],
   "source": [
    "def string_eng(string):\n",
    "    for i in string:\n",
    "        char_ascii = ord(i)\n",
    "        if char_ascii > 127:\n",
    "            return False\n",
    "        # print(char_ascii) # check on whether the return statement is stopping the loop\n",
    "    return True"
   ]
  },
  {
   "cell_type": "markdown",
   "metadata": {},
   "source": [
    "Now, let's check whether the function works."
   ]
  },
  {
   "cell_type": "code",
   "execution_count": 14,
   "metadata": {},
   "outputs": [
    {
     "name": "stdout",
     "output_type": "stream",
     "text": [
      "True\n",
      "False\n",
      "False\n",
      "False\n"
     ]
    }
   ],
   "source": [
    "print(string_eng('Instagram'))\n",
    "print(string_eng('爱奇艺PPS -《欢乐颂2》电视剧热播'))\n",
    "print(string_eng('Docs To Go™ Free Office Suite'))\n",
    "print(string_eng('Instachat 😜'))"
   ]
  },
  {
   "cell_type": "markdown",
   "metadata": {},
   "source": [
    "The last two app names throw flags because emojis and 'TM' are not in ASCII 0-127. Because we don't want to filter out app names like the last two, we'll change the criterion of exclusion in the function we just defined. Instead of any single non-English character excluding an app, we'll say if there are more than 3 characters outside of the range, exclude it.\n",
    "\n",
    "To do so, we'll increment a counter of non-English characters and use that as the filter in the 'if' statement."
   ]
  },
  {
   "cell_type": "code",
   "execution_count": 15,
   "metadata": {},
   "outputs": [],
   "source": [
    "def string_eng(string):\n",
    "    nonEng_chars = 0\n",
    "    for i in string:\n",
    "        char_ascii = ord(i)\n",
    "        if char_ascii > 127:\n",
    "            nonEng_chars +=1\n",
    "    \n",
    "    if nonEng_chars <= 3:\n",
    "        return True\n",
    "    elif nonEng_chars > 3:\n",
    "        return False"
   ]
  },
  {
   "cell_type": "markdown",
   "metadata": {},
   "source": [
    "Now, let's test it again."
   ]
  },
  {
   "cell_type": "code",
   "execution_count": 16,
   "metadata": {},
   "outputs": [
    {
     "name": "stdout",
     "output_type": "stream",
     "text": [
      "True\n",
      "False\n",
      "True\n",
      "True\n"
     ]
    }
   ],
   "source": [
    "print(string_eng('Instagram'))\n",
    "print(string_eng('爱奇艺PPS -《欢乐颂2》电视剧热播'))\n",
    "print(string_eng('Docs To Go™ Free Office Suite'))\n",
    "print(string_eng('Instachat 😜'))"
   ]
  },
  {
   "cell_type": "markdown",
   "metadata": {},
   "source": [
    "Now it's working how we want it to. Let's create new data sets removing apps with non-English names."
   ]
  },
  {
   "cell_type": "code",
   "execution_count": 17,
   "metadata": {},
   "outputs": [],
   "source": [
    "google_clean_2 = []\n",
    "\n",
    "for row in google_clean:\n",
    "    name = row[0]\n",
    "    if string_eng(name):\n",
    "        google_clean_2.append(row)\n",
    "        \n",
    "apple_clean = []\n",
    "\n",
    "for row in apple_data[1:]:\n",
    "    name = row[2]\n",
    "    if string_eng(name):\n",
    "        apple_clean.append(row)\n",
    "    #print(name)"
   ]
  },
  {
   "cell_type": "markdown",
   "metadata": {},
   "source": [
    "Now let's see how much it reduced our data sets in size."
   ]
  },
  {
   "cell_type": "code",
   "execution_count": 18,
   "metadata": {},
   "outputs": [
    {
     "name": "stdout",
     "output_type": "stream",
     "text": [
      "9659\n",
      "9614\n",
      "7198\n",
      "6183\n"
     ]
    }
   ],
   "source": [
    "print(len(google_clean))\n",
    "print(len(google_clean_2))\n",
    "print(len(apple_data))\n",
    "print(len(apple_clean))"
   ]
  },
  {
   "cell_type": "markdown",
   "metadata": {},
   "source": [
    "About 45 apps were removed from the Google data set, roughly 1000 from the Apple data set."
   ]
  },
  {
   "cell_type": "markdown",
   "metadata": {},
   "source": [
    "### Remove Non-Free Apps"
   ]
  },
  {
   "cell_type": "markdown",
   "metadata": {},
   "source": [
    "Because our company will make a free app, we want our strategy to be based on other free apps. Therefore, we'll want to remove non-free apps.\n",
    "\n",
    "Before we do so, we'll look at what the unique values of prices are and how they're formatted. We'll do this by creating a frequency table of prices for each data set."
   ]
  },
  {
   "cell_type": "code",
   "execution_count": 19,
   "metadata": {},
   "outputs": [
    {
     "name": "stdout",
     "output_type": "stream",
     "text": [
      "Google\n",
      "{'0': 8864, '$4.99': 70, '$3.99': 56, '$1.49': 45, '$2.99': 124, '$7.99': 7, '$5.99': 26, '$3.49': 7, '$1.99': 73, '$6.99': 10, '$9.99': 19, '$7.49': 2, '$0.99': 145, '$9.00': 1, '$5.49': 5, '$10.00': 2, '$11.99': 3, '$79.99': 1, '$16.99': 2, '$14.99': 9, '$1.00': 3, '$29.99': 5, '$2.49': 25, '$24.99': 3, '$10.99': 1, '$1.50': 1, '$19.99': 5, '$15.99': 1, '$33.99': 1, '$74.99': 1, '$39.99': 2, '$4.49': 9, '$1.70': 2, '$8.99': 5, '$2.00': 3, '$3.88': 1, '$25.99': 1, '$399.99': 11, '$17.99': 2, '$400.00': 1, '$3.02': 1, '$1.76': 1, '$4.84': 1, '$4.77': 1, '$1.61': 1, '$2.50': 1, '$1.59': 1, '$6.49': 5, '$1.29': 1, '$5.00': 1, '$13.99': 2, '$299.99': 1, '$379.99': 1, '$37.99': 1, '$18.99': 1, '$389.99': 1, '$19.90': 1, '$8.49': 2, '$1.75': 1, '$14.00': 1, '$4.85': 1, '$46.99': 1, '$109.99': 1, '$3.95': 1, '$154.99': 1, '$3.08': 1, '$2.59': 1, '$4.80': 1, '$1.96': 1, '$19.40': 1, '$3.90': 1, '$4.59': 1, '$15.46': 1, '$3.04': 1, '$12.99': 3, '$4.29': 1, '$2.60': 1, '$3.28': 1, '$4.60': 1, '$28.99': 1, '$2.95': 1, '$2.90': 1, '$1.97': 1, '$200.00': 1, '$89.99': 1, '$2.56': 1, '$30.99': 1, '$3.61': 1, '$394.99': 1, '$1.26': 1, '$1.20': 1, '$1.04': 1}\n",
      "Apple\n",
      "{'3.99': 266, '0': 3222, '0.99': 641, '9.99': 76, '4.99': 375, '7.99': 30, '2.99': 669, '1.99': 610, '5.99': 43, '12.99': 1, '21.99': 1, '249.99': 1, '6.99': 165, '74.99': 1, '19.99': 13, '8.99': 8, '24.99': 8, '13.99': 6, '14.99': 15, '16.99': 2, '11.99': 3, '59.99': 3, '15.99': 4, '17.99': 3, '299.99': 1, '49.99': 2, '39.99': 2, '99.99': 1, '29.99': 6, '27.99': 1, '34.99': 1, '20.99': 1, '18.99': 1, '22.99': 1}\n"
     ]
    }
   ],
   "source": [
    "g_price_ft = {}\n",
    "\n",
    "for row in google_clean_2:\n",
    "    price = row[7]\n",
    "    if price in g_price_ft:\n",
    "        g_price_ft[price] += 1\n",
    "    elif price not in g_price_ft:\n",
    "        g_price_ft[price] = 1\n",
    "\n",
    "print('Google')\n",
    "print(g_price_ft)\n",
    "\n",
    "ap_price_ft = {}\n",
    "\n",
    "for row in apple_clean:\n",
    "    price = row[5]\n",
    "    if price in ap_price_ft:\n",
    "        ap_price_ft[price] += 1\n",
    "    elif price not in ap_price_ft:\n",
    "        ap_price_ft[price] = 1\n",
    "\n",
    "print('Apple')\n",
    "print(ap_price_ft)\n"
   ]
  },
  {
   "cell_type": "markdown",
   "metadata": {},
   "source": [
    "Prices are strings in both data sets, and free apps are marked as '0' in both. There should be 8864 free Google apps and 4056 free Apple apps. Let's create new data sets by filtering with the string '0'."
   ]
  },
  {
   "cell_type": "code",
   "execution_count": 20,
   "metadata": {},
   "outputs": [],
   "source": [
    "google_clean_3 = []\n",
    "\n",
    "for row in google_clean_2:\n",
    "    price = row[7]\n",
    "    if price == '0':\n",
    "        google_clean_3.append(row)\n",
    "    \n",
    "\n",
    "apple_clean_2 = []\n",
    "\n",
    "for row in apple_clean:\n",
    "    price = row[5]\n",
    "    if price == '0':\n",
    "        apple_clean_2.append(row)"
   ]
  },
  {
   "cell_type": "markdown",
   "metadata": {},
   "source": [
    "Now, let's see if the data sets are the right size."
   ]
  },
  {
   "cell_type": "code",
   "execution_count": 21,
   "metadata": {},
   "outputs": [
    {
     "name": "stdout",
     "output_type": "stream",
     "text": [
      "8864\n",
      "3222\n"
     ]
    }
   ],
   "source": [
    "print(len(google_clean_3))\n",
    "print(len(apple_clean_2))"
   ]
  },
  {
   "cell_type": "markdown",
   "metadata": {},
   "source": [
    "Bingo."
   ]
  },
  {
   "cell_type": "markdown",
   "metadata": {},
   "source": [
    "## Build Frequency Tables for Variables"
   ]
  },
  {
   "cell_type": "markdown",
   "metadata": {},
   "source": [
    "To minimize risks and overhead, our validation strategy for an app idea has three steps:\n",
    "\n",
    "1) Build a minimal Android version of the app, and add it to Google Play.\n",
    "\n",
    "2) If the app has a good response from users, we develop it further.\n",
    "\n",
    "3) If the app is profitable after six months, we build an iOS version of the app and add it to the App Store.\n",
    "\n",
    "Because our end goal is to add the app on both Google Play and the App Store, we need to find app profiles that are successful in both markets.\n",
    "\n",
    "To begin looking into important factors for app popularity, let's create a function that can create frequency tables for a variable in a data set, given a data set and column number, since we'll be doing that pretty often. This will also express frequencies as a percentage of the total rather than just a count."
   ]
  },
  {
   "cell_type": "code",
   "execution_count": 22,
   "metadata": {},
   "outputs": [],
   "source": [
    "def freq_table(dataset, col):\n",
    "    ft = {}\n",
    "\n",
    "    for row in dataset:\n",
    "        var = row[col]\n",
    "        \n",
    "        if var in ft:\n",
    "            ft[var] += 1\n",
    "        elif var not in ft:\n",
    "            ft[var] = 1\n",
    "    \n",
    "    sum_ft = 0\n",
    "    for key in ft:\n",
    "        sum_ft = sum_ft + ft[key]\n",
    "    \n",
    "    for key in ft:\n",
    "        val_perc = (ft[key] / sum_ft) * 100\n",
    "        val_perc_round = round(val_perc, 2)\n",
    "        ft[key] = val_perc_round\n",
    "        \n",
    "    return ft"
   ]
  },
  {
   "cell_type": "markdown",
   "metadata": {},
   "source": [
    "Now, let's look at the most common genres in each app store's market."
   ]
  },
  {
   "cell_type": "code",
   "execution_count": 23,
   "metadata": {
    "scrolled": true
   },
   "outputs": [
    {
     "name": "stdout",
     "output_type": "stream",
     "text": [
      "{'ART_AND_DESIGN': 0.64, 'AUTO_AND_VEHICLES': 0.93, 'BEAUTY': 0.6, 'BOOKS_AND_REFERENCE': 2.14, 'BUSINESS': 4.58, 'COMICS': 0.62, 'COMMUNICATION': 3.25, 'DATING': 1.86, 'EDUCATION': 1.13, 'ENTERTAINMENT': 0.88, 'EVENTS': 0.71, 'FINANCE': 3.7, 'FOOD_AND_DRINK': 1.24, 'HEALTH_AND_FITNESS': 3.07, 'HOUSE_AND_HOME': 0.82, 'LIBRARIES_AND_DEMO': 0.94, 'LIFESTYLE': 3.9, 'GAME': 9.51, 'FAMILY': 19.22, 'MEDICAL': 3.54, 'SOCIAL': 2.66, 'SHOPPING': 2.25, 'PHOTOGRAPHY': 2.94, 'SPORTS': 3.42, 'TRAVEL_AND_LOCAL': 2.34, 'TOOLS': 8.46, 'PERSONALIZATION': 3.32, 'PRODUCTIVITY': 3.89, 'PARENTING': 0.65, 'WEATHER': 0.8, 'VIDEO_PLAYERS': 1.78, 'NEWS_AND_MAGAZINES': 2.8, 'MAPS_AND_NAVIGATION': 1.4}\n",
      "{'Productivity': 1.74, 'Weather': 0.87, 'Shopping': 2.61, 'Reference': 0.56, 'Finance': 1.12, 'Music': 2.05, 'Utilities': 2.51, 'Travel': 1.24, 'Social Networking': 3.29, 'Sports': 2.14, 'Health & Fitness': 2.02, 'Games': 58.16, 'Food & Drink': 0.81, 'News': 1.33, 'Book': 0.43, 'Photo & Video': 4.97, 'Entertainment': 7.88, 'Business': 0.53, 'Lifestyle': 1.58, 'Education': 3.66, 'Navigation': 0.19, 'Medical': 0.19, 'Catalogs': 0.12}\n"
     ]
    }
   ],
   "source": [
    "genre_ft_g = freq_table(google_clean_3, 1)\n",
    "genre_ft_ap = freq_table(apple_clean_2, 12)\n",
    "print(genre_ft_g)\n",
    "print(genre_ft_ap)"
   ]
  },
  {
   "cell_type": "markdown",
   "metadata": {},
   "source": [
    "This isn't very easy to look at, so let's build a function to sort these genres by number of entries and embed the freq table function in it."
   ]
  },
  {
   "cell_type": "code",
   "execution_count": 24,
   "metadata": {},
   "outputs": [],
   "source": [
    "def display_table(dataset, index):\n",
    "    table = freq_table(dataset, index)\n",
    "    table_display = []\n",
    "    for key in table:\n",
    "        key_val_as_tuple = (table[key], key)\n",
    "        table_display.append(key_val_as_tuple)\n",
    "\n",
    "    table_sorted = sorted(table_display, reverse = True)\n",
    "    for entry in table_sorted:\n",
    "        print(entry[1], ':', entry[0])"
   ]
  },
  {
   "cell_type": "markdown",
   "metadata": {},
   "source": [
    "Now, let's display some tables of apps by category."
   ]
  },
  {
   "cell_type": "code",
   "execution_count": 25,
   "metadata": {},
   "outputs": [
    {
     "name": "stdout",
     "output_type": "stream",
     "text": [
      "--- Google Category ---\n",
      "FAMILY : 19.22\n",
      "GAME : 9.51\n",
      "TOOLS : 8.46\n",
      "BUSINESS : 4.58\n",
      "LIFESTYLE : 3.9\n",
      "PRODUCTIVITY : 3.89\n",
      "FINANCE : 3.7\n",
      "MEDICAL : 3.54\n",
      "SPORTS : 3.42\n",
      "PERSONALIZATION : 3.32\n",
      "COMMUNICATION : 3.25\n",
      "HEALTH_AND_FITNESS : 3.07\n",
      "PHOTOGRAPHY : 2.94\n",
      "NEWS_AND_MAGAZINES : 2.8\n",
      "SOCIAL : 2.66\n",
      "TRAVEL_AND_LOCAL : 2.34\n",
      "SHOPPING : 2.25\n",
      "BOOKS_AND_REFERENCE : 2.14\n",
      "DATING : 1.86\n",
      "VIDEO_PLAYERS : 1.78\n",
      "MAPS_AND_NAVIGATION : 1.4\n",
      "FOOD_AND_DRINK : 1.24\n",
      "EDUCATION : 1.13\n",
      "LIBRARIES_AND_DEMO : 0.94\n",
      "AUTO_AND_VEHICLES : 0.93\n",
      "ENTERTAINMENT : 0.88\n",
      "HOUSE_AND_HOME : 0.82\n",
      "WEATHER : 0.8\n",
      "EVENTS : 0.71\n",
      "PARENTING : 0.65\n",
      "ART_AND_DESIGN : 0.64\n",
      "COMICS : 0.62\n",
      "BEAUTY : 0.6\n",
      "--- Apple Prime Genre ---\n",
      "Games : 58.16\n",
      "Entertainment : 7.88\n",
      "Photo & Video : 4.97\n",
      "Education : 3.66\n",
      "Social Networking : 3.29\n",
      "Shopping : 2.61\n",
      "Utilities : 2.51\n",
      "Sports : 2.14\n",
      "Music : 2.05\n",
      "Health & Fitness : 2.02\n",
      "Productivity : 1.74\n",
      "Lifestyle : 1.58\n",
      "News : 1.33\n",
      "Travel : 1.24\n",
      "Finance : 1.12\n",
      "Weather : 0.87\n",
      "Food & Drink : 0.81\n",
      "Reference : 0.56\n",
      "Business : 0.53\n",
      "Book : 0.43\n",
      "Navigation : 0.19\n",
      "Medical : 0.19\n",
      "Catalogs : 0.12\n",
      "--- Google Genres ---\n",
      "Tools : 8.45\n",
      "Entertainment : 6.07\n",
      "Education : 5.35\n",
      "Business : 4.58\n",
      "Productivity : 3.89\n",
      "Lifestyle : 3.89\n",
      "Finance : 3.7\n",
      "Medical : 3.54\n",
      "Sports : 3.46\n",
      "Personalization : 3.32\n",
      "Communication : 3.25\n",
      "Action : 3.1\n",
      "Health & Fitness : 3.07\n",
      "Photography : 2.94\n",
      "News & Magazines : 2.8\n",
      "Social : 2.66\n",
      "Travel & Local : 2.32\n",
      "Shopping : 2.25\n",
      "Books & Reference : 2.14\n",
      "Simulation : 2.04\n",
      "Dating : 1.86\n",
      "Arcade : 1.86\n",
      "Video Players & Editors : 1.78\n",
      "Casual : 1.75\n",
      "Maps & Navigation : 1.4\n",
      "Food & Drink : 1.24\n",
      "Puzzle : 1.13\n",
      "Racing : 0.99\n",
      "Role Playing : 0.94\n",
      "Libraries & Demo : 0.94\n",
      "Auto & Vehicles : 0.93\n",
      "Strategy : 0.91\n",
      "House & Home : 0.82\n",
      "Weather : 0.8\n",
      "Events : 0.71\n",
      "Adventure : 0.68\n",
      "Comics : 0.61\n",
      "Beauty : 0.6\n",
      "Art & Design : 0.6\n",
      "Parenting : 0.5\n",
      "Card : 0.44\n",
      "Casino : 0.43\n",
      "Trivia : 0.42\n",
      "Educational;Education : 0.39\n",
      "Board : 0.38\n",
      "Educational : 0.37\n",
      "Education;Education : 0.34\n",
      "Word : 0.26\n",
      "Casual;Pretend Play : 0.24\n",
      "Music : 0.2\n",
      "Racing;Action & Adventure : 0.17\n",
      "Puzzle;Brain Games : 0.17\n",
      "Entertainment;Music & Video : 0.17\n",
      "Casual;Brain Games : 0.14\n",
      "Casual;Action & Adventure : 0.14\n",
      "Arcade;Action & Adventure : 0.12\n",
      "Action;Action & Adventure : 0.1\n",
      "Educational;Pretend Play : 0.09\n",
      "Simulation;Action & Adventure : 0.08\n",
      "Parenting;Education : 0.08\n",
      "Entertainment;Brain Games : 0.08\n",
      "Board;Brain Games : 0.08\n",
      "Parenting;Music & Video : 0.07\n",
      "Educational;Brain Games : 0.07\n",
      "Casual;Creativity : 0.07\n",
      "Art & Design;Creativity : 0.07\n",
      "Education;Pretend Play : 0.06\n",
      "Role Playing;Pretend Play : 0.05\n",
      "Education;Creativity : 0.05\n",
      "Role Playing;Action & Adventure : 0.03\n",
      "Puzzle;Action & Adventure : 0.03\n",
      "Entertainment;Creativity : 0.03\n",
      "Entertainment;Action & Adventure : 0.03\n",
      "Educational;Creativity : 0.03\n",
      "Educational;Action & Adventure : 0.03\n",
      "Education;Music & Video : 0.03\n",
      "Education;Brain Games : 0.03\n",
      "Education;Action & Adventure : 0.03\n",
      "Adventure;Action & Adventure : 0.03\n",
      "Video Players & Editors;Music & Video : 0.02\n",
      "Sports;Action & Adventure : 0.02\n",
      "Simulation;Pretend Play : 0.02\n",
      "Puzzle;Creativity : 0.02\n",
      "Music;Music & Video : 0.02\n",
      "Entertainment;Pretend Play : 0.02\n",
      "Casual;Education : 0.02\n",
      "Board;Action & Adventure : 0.02\n",
      "Trivia;Education : 0.01\n",
      "Travel & Local;Action & Adventure : 0.01\n",
      "Tools;Education : 0.01\n",
      "Strategy;Education : 0.01\n",
      "Strategy;Creativity : 0.01\n",
      "Strategy;Action & Adventure : 0.01\n",
      "Simulation;Education : 0.01\n",
      "Role Playing;Brain Games : 0.01\n",
      "Racing;Pretend Play : 0.01\n",
      "Puzzle;Education : 0.01\n",
      "Parenting;Brain Games : 0.01\n",
      "Music & Audio;Music & Video : 0.01\n",
      "Lifestyle;Pretend Play : 0.01\n",
      "Lifestyle;Education : 0.01\n",
      "Health & Fitness;Education : 0.01\n",
      "Health & Fitness;Action & Adventure : 0.01\n",
      "Entertainment;Education : 0.01\n",
      "Communication;Creativity : 0.01\n",
      "Comics;Creativity : 0.01\n",
      "Casual;Music & Video : 0.01\n",
      "Card;Brain Games : 0.01\n",
      "Card;Action & Adventure : 0.01\n",
      "Books & Reference;Education : 0.01\n",
      "Art & Design;Pretend Play : 0.01\n",
      "Art & Design;Action & Adventure : 0.01\n",
      "Arcade;Pretend Play : 0.01\n",
      "Adventure;Education : 0.01\n"
     ]
    }
   ],
   "source": [
    "print('--- Google Category ---')\n",
    "display_table(google_clean_3, 1)\n",
    "print('--- Apple Prime Genre ---')\n",
    "display_table(apple_clean_2, 12)\n",
    "print('--- Google Genres ---')\n",
    "display_table(google_clean_3, 9)"
   ]
  },
  {
   "cell_type": "markdown",
   "metadata": {},
   "source": [
    "\n",
    "For the Apple data set, games takes a far lead (55.7%), followed by entertainment (8.2%) and photo & video apps (4.1%). These are followed by social networking, education, shopping, utilities, lifestyle, and finance apps."
   ]
  },
  {
   "cell_type": "markdown",
   "metadata": {},
   "source": [
    "For the Google data set, family apps (19.2%), games (9.5%), and tools (8.5%) are the most common categories. These are followed by business, lifestyle, productivity, finance, and medical apps (all 3.5-4.6%).\n",
    "\n",
    "When considering multiple genres in the Google set, the top set are tools (8.45%), entertainment (6.1%), and education (5.4%). However, because many of the genres are subgenres, this variable diffuses the impact of larger categories. For example, many genre labels include what seem to be styles of game apps: puzzle, racing, strategy, role playing, casino, casual;action & adventure, etc. "
   ]
  },
  {
   "cell_type": "markdown",
   "metadata": {},
   "source": [
    "As a whole, games and other entertainment, including social media, take up a fair share of the percentage of apps, with games being a top percentage in both Google and Apple stores. However, the trends in the two stores differ for the top set of apps represented. The Google store predominantly has practical apps, whereas the Apple store predominantly has entertainment apps."
   ]
  },
  {
   "cell_type": "markdown",
   "metadata": {},
   "source": [
    "The fact that a large number of apps of a certain kind exist in the store may be an indicator that there is demand for that kind of app, but this is not certain without measuring the number of users for a given app genre. For example, it could be that although there are fewer social media and communication apps available in the store, but there are far more users of these apps than family apps or photo & video apps. "
   ]
  },
  {
   "cell_type": "markdown",
   "metadata": {},
   "source": [
    "## Determine Rough Number of Users by App Genre"
   ]
  },
  {
   "cell_type": "markdown",
   "metadata": {},
   "source": [
    "For for Apple data set, we'll use total ratings count; for the Google data set, installs."
   ]
  },
  {
   "cell_type": "markdown",
   "metadata": {},
   "source": [
    "### Apple Store"
   ]
  },
  {
   "cell_type": "markdown",
   "metadata": {},
   "source": [
    "We'll start by getting a frequency table for Apple's prime_genre variable."
   ]
  },
  {
   "cell_type": "code",
   "execution_count": 26,
   "metadata": {},
   "outputs": [],
   "source": [
    "a_ft = freq_table(apple_clean_2, 12)"
   ]
  },
  {
   "cell_type": "markdown",
   "metadata": {},
   "source": [
    "Now, we'll loop over the unique genres in each data set, getting the average number of installs or ratings per app of a given genre. We'll also use the same method from the previous display_table function to organize the results.\n",
    "\n",
    "We'll start with the Apple data set."
   ]
  },
  {
   "cell_type": "code",
   "execution_count": 27,
   "metadata": {
    "scrolled": false
   },
   "outputs": [
    {
     "name": "stdout",
     "output_type": "stream",
     "text": [
      "Navigation : 86090.33\n",
      "Reference : 74942.11\n",
      "Social Networking : 71548.35\n",
      "Music : 57326.53\n",
      "Weather : 52279.89\n",
      "Book : 39758.5\n",
      "Food & Drink : 33333.92\n",
      "Finance : 31467.94\n",
      "Photo & Video : 28441.54\n",
      "Travel : 28243.8\n",
      "Shopping : 26919.69\n",
      "Health & Fitness : 23298.02\n",
      "Sports : 23008.9\n",
      "Games : 22788.67\n",
      "News : 21248.02\n",
      "Productivity : 21028.41\n",
      "Utilities : 18684.46\n",
      "Lifestyle : 16485.76\n",
      "Entertainment : 14029.83\n",
      "Business : 7491.12\n",
      "Education : 7003.98\n",
      "Catalogs : 4004.0\n",
      "Medical : 612.0\n"
     ]
    }
   ],
   "source": [
    "a_table_display = []\n",
    "for genre in a_ft:\n",
    "    total = 0\n",
    "    len_genre = 0\n",
    "    for row in apple_clean_2:\n",
    "        genre_app = row[12]\n",
    "        if genre_app == genre:\n",
    "            n_ratings = float(row[6])\n",
    "            total += n_ratings\n",
    "            len_genre += 1\n",
    "    avg_ratings = round(total / len_genre, 2)\n",
    "    #print(genre + \": \" + str(avg_ratings))\n",
    "    \n",
    "    genre_val_as_tuple = (avg_ratings, genre)\n",
    "    a_table_display.append(genre_val_as_tuple)\n",
    "\n",
    "a_table_sorted = sorted(a_table_display, reverse = True)\n",
    "for entry in a_table_sorted:\n",
    "    print(entry[1], ':', entry[0])"
   ]
  },
  {
   "cell_type": "markdown",
   "metadata": {},
   "source": [
    "Based on the average number of user ratings per app in the Apple store, four app types stand head and shoulders above the rest: Reference (67K+), Music (56K+), Social Networking (53K+), and Weather (47K+). Before making a recommendation to the company, however, it would be useful to see how much the top apps in these categories influence the average.\n",
    "\n",
    "We'll do so by looking at the first few entries with each genre label."
   ]
  },
  {
   "cell_type": "code",
   "execution_count": 28,
   "metadata": {
    "scrolled": true
   },
   "outputs": [
    {
     "name": "stdout",
     "output_type": "stream",
     "text": [
      "Bible : 985920\n",
      "Dictionary.com Dictionary & Thesaurus : 200047\n",
      "Dictionary.com Dictionary & Thesaurus for iPad : 54175\n",
      "Muslim Pro: Ramadan 2017 Prayer Times, Azan, Quran : 18418\n",
      "Merriam-Webster Dictionary : 16849\n",
      "Google Translate : 26786\n",
      "Night Sky : 12122\n",
      "WWDC : 762\n",
      "Jishokun-Japanese English Dictionary & Translator : 0\n",
      "教えて!goo : 0\n",
      "VPN Express : 14\n",
      "New Furniture Mods - Pocket Wiki & Game Tools for Minecraft PC Edition : 17588\n",
      "LUCKY BLOCK MOD ™ for Minecraft PC Edition - The Best Pocket Wiki & Mods Installer Tools : 4693\n",
      "Guides for Pokémon GO - Pokemon GO News and Cheats : 826\n",
      "Horror Maps for Minecraft PE - Download The Scariest Maps for Minecraft Pocket Edition (MCPE) Free : 718\n",
      "City Maps for Minecraft PE - The Best Maps for Minecraft Pocket Edition (MCPE) : 8535\n",
      "GUNS MODS for Minecraft PC Edition - Mods Tools : 1497\n",
      "Real Bike Traffic Rider Virtual Reality Glasses : 8\n"
     ]
    }
   ],
   "source": [
    "for app in apple_clean_2:\n",
    "    if app[12] == 'Reference':\n",
    "        print(app[2], ':', app[6]) # print name and number of ratings"
   ]
  },
  {
   "cell_type": "markdown",
   "metadata": {},
   "source": [
    "The bible and dictionaries dominate reference, so a reference site isn't a great idea--unless you can build a better dictionary!"
   ]
  },
  {
   "cell_type": "code",
   "execution_count": 29,
   "metadata": {
    "scrolled": false
   },
   "outputs": [
    {
     "name": "stdout",
     "output_type": "stream",
     "text": [
      "Pandora - Music & Radio : 1126879\n",
      "Shazam - Discover music, artists, videos & lyrics : 402925\n",
      "iHeartRadio – Free Music & Radio Stations : 293228\n",
      "Deezer - Listen to your Favorite Music & Playlists : 4677\n",
      "Sonos Controller : 48905\n",
      "NRJ Radio : 38\n",
      "radio.de - Der Radioplayer : 64\n",
      "Spotify Music : 878563\n",
      "SoundCloud - Music & Audio : 135744\n",
      "Sing Karaoke Songs Unlimited with StarMaker : 26227\n",
      "SoundHound Song Search & Music Player : 82602\n",
      "Ringtones for iPhone & Ringtone Maker : 25403\n",
      "Coach Guitar - Lessons & Easy Tabs For Beginners : 2416\n",
      "TuneIn Radio - MLB NBA Audiobooks Podcasts Music : 110420\n",
      "Magic Piano by Smule : 131695\n",
      "QQ音乐HD : 224\n",
      "The Singing Machine Mobile Karaoke App : 130\n",
      "Bandsintown Concerts : 30845\n",
      "PetitLyrics : 0\n",
      "edjing Mix:DJ turntable to remix and scratch music : 13580\n",
      "Smule Sing! : 119316\n",
      "Amazon Music : 106235\n",
      "AutoRap by Smule : 18202\n",
      "My Mixtapez Music : 26286\n",
      "Certified Mixtapes - Hip Hop Albums & Mixtapes : 9975\n",
      "Karaoke - Sing Karaoke, Unlimited Songs! : 28606\n",
      "Napster - Top Music & Radio : 14268\n",
      "Musi - Unlimited Music For YouTube : 25193\n",
      "UE BOOM : 612\n",
      "Spinrilla - Mixtapes For Free : 15053\n",
      "Google Play Music : 10118\n",
      "Piano - Play Keyboard Music Games with Magic Tiles : 1636\n",
      "Bose SoundTouch : 3687\n",
      "DatPiff : 2815\n",
      "Sounds app - Music And Friends : 5126\n",
      "Smart Music: Streaming Videos and Radio : 17\n",
      "Free Piano app by Yokee : 13016\n",
      "Simple Radio - Live AM & FM Radio Stations : 4787\n",
      "Trebel Music - Unlimited Music Downloader : 2570\n",
      "TIDAL : 7398\n",
      "Acapella from PicPlayPost : 2487\n",
      "Medly - Music Maker : 933\n",
      "Amazon Alexa : 3018\n",
      "Music Freedom - Unlimited Free MP3 Music Streaming : 1246\n",
      "PlayGround • Music At Your Fingertips : 150\n",
      "Musical Video Maker - Create Music clips lip sync : 320\n",
      "Free Music Play - Mp3 Streamer & Player : 2496\n",
      "LiveMixtapes : 555\n",
      "AmpMe - A Portable Social Party Music Speaker : 1047\n",
      "NOISE : 355\n",
      "YouTube Music : 7109\n",
      "Ringtones for iPhone with Ringtone Maker : 4013\n",
      "Music Memos : 909\n",
      "Musicloud - MP3 and FLAC Music Player for Cloud Platforms. : 2211\n",
      "Bose Connect : 915\n",
      "Cloud Music Player - Downloader & Playlist Manager : 319\n",
      "Remixlive - Remix loops with pads : 288\n",
      "Free Music -  Player & Streamer  for Dropbox, OneDrive & Google Drive : 46\n",
      "Boom: Best Equalizer & Magical Surround Sound : 1375\n",
      "MP3 Music Player & Streamer for Clouds : 329\n",
      "Nicki Minaj: The Empire : 5196\n",
      "SongFlip - Free Music Streamer : 5004\n",
      "Blocs Wave - Make & Record Music : 158\n",
      "Music and Chill : 135\n",
      "Free Music - MP3 Streamer & Playlist Manager Pro : 13443\n",
      "BOSS Tuner : 13\n"
     ]
    }
   ],
   "source": [
    "for app in apple_clean_2:\n",
    "    if app[12] == 'Music':\n",
    "        print(app[2], ':', app[6]) # print name and number of ratings"
   ]
  },
  {
   "cell_type": "markdown",
   "metadata": {},
   "source": [
    "There are a fair number of popular music apps--karaoke, music players, etc. A music app looks like a promising investment."
   ]
  },
  {
   "cell_type": "code",
   "execution_count": 30,
   "metadata": {},
   "outputs": [
    {
     "name": "stdout",
     "output_type": "stream",
     "text": [
      "Facebook : 2974676\n",
      "LinkedIn : 71856\n",
      "Skype for iPhone : 373519\n",
      "Tumblr : 334293\n",
      "Match™ - #1 Dating App. : 60659\n",
      "WhatsApp Messenger : 287589\n",
      "TextNow - Unlimited Text + Calls : 164963\n",
      "Grindr - Gay and same sex guys chat, meet and date : 23201\n",
      "imo video calls and chat : 18841\n",
      "Ameba : 269\n",
      "Weibo : 7265\n",
      "Badoo - Meet New People, Chat, Socialize. : 34428\n",
      "Kik : 260965\n",
      "Qzone : 1649\n",
      "Fake-A-Location Free ™ : 354\n",
      "Tango - Free Video Call, Voice and Chat : 75412\n",
      "MeetMe - Chat and Meet New People : 97072\n",
      "SimSimi : 23530\n",
      "Viber Messenger – Text & Call : 164249\n",
      "Find My Family, Friends & iPhone - Life360 Locator : 43877\n",
      "Weibo HD : 16772\n",
      "POF - Best Dating App for Conversations : 52642\n",
      "GroupMe : 28260\n",
      "Lobi : 36\n",
      "WeChat : 34584\n",
      "ooVoo – Free Video Call, Text and Voice : 177501\n",
      "Pinterest : 1061624\n",
      "知乎 : 397\n",
      "Qzone HD : 458\n",
      "Skype for iPad : 60163\n",
      "LINE : 11437\n",
      "QQ : 9109\n",
      "LOVOO - Dating Chat : 1985\n",
      "QQ HD : 5058\n",
      "Messenger : 351466\n",
      "eHarmony™ Dating App - Meet Singles : 11124\n",
      "YouNow: Live Stream Video Chat : 12079\n",
      "Cougar Dating & Life Style App for Mature Women : 213\n",
      "Battlefield™ Companion : 689\n",
      "Whisper - Share, Express, Meet : 39819\n",
      "We Heart It - Fashion, wallpapers, quotes, tattoos : 90414\n",
      "Followers - Social Analytics For Instagram : 112778\n",
      "InsTrack for Instagram - Analytics Plus More : 85535\n",
      "Followers + for Instagram - Follower Analytics : 28633\n",
      "Timehop : 49510\n",
      "Repost for Instagram : 15185\n",
      "LINE PLAY - Your Avatar World : 34677\n",
      "Nextdoor : 14402\n",
      "Hangouts : 36404\n",
      "FollowMeter for Instagram - Followers Tracking : 11976\n",
      "Telegram Messenger : 7573\n",
      "Chatous - Chat with new people : 1609\n",
      "QQ International : 274\n",
      "FireChat : 1037\n",
      "Jodel : 1193\n",
      "Wishbone - Compare Anything : 20649\n",
      "Zenly - Locate your friends in realtime : 427\n",
      "Tantan : 235\n",
      "Flinch - Video Chat Staring Contest : 2134\n",
      "botman - Real time video chat : 7\n",
      "豆瓣 : 407\n",
      "Marco Polo Video Walkie Talkie : 27662\n",
      "After School - Funny Anonymous School News : 18482\n",
      "Highrise - Your Avatar Community : 2011\n",
      "Quick Reposter - Repost, Regram and Reshare Photos : 17694\n",
      "Kiwi - Q&A : 1538\n",
      "Periscope - Live Video Streaming Around the World : 6062\n",
      "Inke—Broadcast an amazing life : 147\n",
      "Discord - Chat for Gamers : 9152\n",
      "Candid - Speak Your Mind Freely : 398\n",
      "Down To Lunch : 2535\n",
      "SOMA Messenger : 3232\n",
      "Rawr Messenger - Dab your chat : 180\n",
      "Popcorn Buzz - Free Group Calls : 281\n",
      "Chain: Collaborate On MyVideo Story/Group Video : 35\n",
      "BestieBox : 0\n",
      "Selfeo : 366\n",
      "Followers Analysis Tool For Instagram App Free : 4253\n",
      "Hey! VINA - Where Women Meet New Friends : 719\n",
      "PlayStation®Messages : 1918\n",
      "WhenToPost: Best Time to Post Photos for Instagram : 158\n",
      "MATCH ON LINE chat : 0\n",
      "Fiesta by Tango - Chat & Meet New People : 885\n",
      "Houseparty - Group Video Chat : 3991\n",
      "All Devices for WhatsApp - Messenger for iPad : 682\n",
      "Peach — share vividly : 727\n",
      "bit-tube - Live Stream Video Chat : 0\n",
      "Miitomo : 23965\n",
      "SoundCloud Pulse: for creators : 240\n",
      "IAmNaughty – Dating App to Meet New People Online : 463\n",
      "League of Legends Friends : 420\n",
      "GhostCodes - a discovery app for Snapchat : 1313\n",
      "live.ly - live video streaming : 4145\n",
      "Live.me – Live Video Chat & Make Friends Nearby : 14724\n",
      "BOO! - Video chat camera with filters & stickers : 1805\n",
      "Google Allo — smart messaging : 862\n",
      "Google Duo - simple video calling : 1033\n",
      "Chat for Whatsapp - iPad Version : 5060\n",
      "Chat for Pokemon Go - GoChat : 500\n",
      "niconico ch : 0\n",
      "Followers Analytics for Instagram - InstaReport : 13914\n",
      "Monkey : 3060\n",
      "LINE BLOG : 0\n",
      "Mustknow - anonymous video Q&A : 53\n",
      "CTFxCmoji : 39\n",
      "Fam — Group video calling for iMessage : 279\n"
     ]
    }
   ],
   "source": [
    "for app in apple_clean_2:\n",
    "    if app[12] == 'Social Networking':\n",
    "        print(app[2], ':', app[6]) # print name and number of ratings"
   ]
  },
  {
   "cell_type": "markdown",
   "metadata": {},
   "source": [
    "Social networking also includes a lot of promisingly large-follower app types, especially tools for enhancing the Instagram experience, but also including communication apps, and dating/meetup apps."
   ]
  },
  {
   "cell_type": "code",
   "execution_count": 31,
   "metadata": {
    "scrolled": true
   },
   "outputs": [
    {
     "name": "stdout",
     "output_type": "stream",
     "text": [
      "WeatherBug - Local Weather, Radar, Maps, Alerts : 188583\n",
      "The Weather Channel: Forecast, Radar & Alerts : 495626\n",
      "AccuWeather - Weather for Life : 144214\n",
      "MyRadar NOAA Weather Radar Forecast : 150158\n",
      "The Weather Channel App for iPad – best local forecast, radar map, and storm tracking : 208648\n",
      "Météo-France : 24\n",
      "Yurekuru Call : 53\n",
      "QuakeFeed Earthquake Map, Alerts, and News : 6081\n",
      "Moji Weather - Free Weather Forecast : 2333\n",
      "FEMA : 128\n",
      "Weather Underground: Custom Forecast & Local Radar : 49192\n",
      "JaxReady : 22\n",
      "Hurricane Tracker WESH 2 Orlando, Central Florida : 203\n",
      "Hurricane by American Red Cross : 1158\n",
      "Weather & Radar : 37\n",
      "WRAL Weather Alert : 25\n",
      "Yahoo Weather : 112603\n",
      "Weather Live Free - Weather Forecast & Alerts : 35702\n",
      "NOAA Weather Radar - Weather Forecast & HD Radar : 45696\n",
      "iWeather - World weather forecast : 80\n",
      "Almanac Long-Range Weather Forecast : 12\n",
      "TodayAir : 0\n",
      "Weather - Radar - Storm with Morecast App : 78\n",
      "Storm Radar : 22792\n",
      "WarnWetter : 0\n",
      "wetter.com : 0\n",
      "Forecast Bar : 375\n",
      "Freddy the Frogcaster's Weather Station : 14\n"
     ]
    }
   ],
   "source": [
    "for app in apple_clean_2:\n",
    "    if app[12] == 'Weather':\n",
    "        print(app[2], ':', app[6]) # print name and number of ratings"
   ]
  },
  {
   "cell_type": "markdown",
   "metadata": {},
   "source": [
    "Weather apps seem to be dominated by a small few: Accuweather, The Weather Channel, and MyRadar. Probably not a good choice."
   ]
  },
  {
   "cell_type": "markdown",
   "metadata": {},
   "source": [
    "### Recommendation based on Apple Store apps"
   ]
  },
  {
   "cell_type": "markdown",
   "metadata": {},
   "source": [
    "Based on the average number of user ratings per app and the available options for app types, it seems that our company should make a Music or Social Networking app to maximize the number of app users. For music, making a breakthrough karaoke, podcast/audiobook player, or music editing app could be  popular. For social networking, an app for meetups, communication, or a novel use of the Instagram platform could be popular."
   ]
  },
  {
   "cell_type": "markdown",
   "metadata": {},
   "source": [
    "### Google Store"
   ]
  },
  {
   "cell_type": "markdown",
   "metadata": {},
   "source": [
    "We'll start by getting a frequency table for Google's category variable."
   ]
  },
  {
   "cell_type": "code",
   "execution_count": 32,
   "metadata": {},
   "outputs": [],
   "source": [
    "g_ft = freq_table(google_clean_3, 1)"
   ]
  },
  {
   "cell_type": "markdown",
   "metadata": {},
   "source": [
    "Next, we'll display the average number of installs per category. Installs in this data set are marked with a range, such as 1,000,000+ or 10,000+, making the numbers imprecise. However, for the purposes of estimation, we can just use the number range marker (e.g., 1,000,000 or 10,000), removing the commas and pluses from the strings and making these numbers into floats."
   ]
  },
  {
   "cell_type": "code",
   "execution_count": 33,
   "metadata": {},
   "outputs": [
    {
     "name": "stdout",
     "output_type": "stream",
     "text": [
      "COMMUNICATION : 38326063.2\n",
      "VIDEO_PLAYERS : 24790074.18\n",
      "SOCIAL : 23253652.13\n",
      "PHOTOGRAPHY : 17840110.4\n",
      "PRODUCTIVITY : 16772838.59\n",
      "TRAVEL_AND_LOCAL : 13984077.71\n",
      "GAME : 12914435.88\n",
      "TOOLS : 10801391.3\n",
      "NEWS_AND_MAGAZINES : 9549178.47\n",
      "ENTERTAINMENT : 9146923.08\n",
      "BOOKS_AND_REFERENCE : 8767811.89\n",
      "SHOPPING : 7036877.31\n",
      "PERSONALIZATION : 5201482.61\n",
      "FAMILY : 5180161.79\n",
      "WEATHER : 5074486.2\n",
      "SPORTS : 4274688.72\n",
      "HEALTH_AND_FITNESS : 4167457.36\n",
      "MAPS_AND_NAVIGATION : 4056941.77\n",
      "ART_AND_DESIGN : 1986335.09\n",
      "FOOD_AND_DRINK : 1924897.74\n",
      "EDUCATION : 1768500.0\n",
      "BUSINESS : 1704192.34\n",
      "LIFESTYLE : 1437816.27\n",
      "FINANCE : 1387692.48\n",
      "HOUSE_AND_HOME : 1331540.56\n",
      "DATING : 854028.83\n",
      "COMICS : 817657.27\n",
      "AUTO_AND_VEHICLES : 647317.82\n",
      "LIBRARIES_AND_DEMO : 638503.73\n",
      "PARENTING : 542603.62\n",
      "BEAUTY : 513151.89\n",
      "EVENTS : 253542.22\n",
      "MEDICAL : 123064.79\n"
     ]
    }
   ],
   "source": [
    "g_table_display = []\n",
    "for category in g_ft:\n",
    "    total = 0\n",
    "    len_category = 0\n",
    "    for row in google_clean_3:\n",
    "        category_app = row[1]\n",
    "        if category_app == category:\n",
    "            n_installs = row[5]\n",
    "            n_installs = n_installs.replace('+', '')\n",
    "            n_installs = n_installs.replace(',', '')\n",
    "            n_installs = float(n_installs)\n",
    "            \n",
    "            total += n_installs\n",
    "            len_category += 1\n",
    "    avg_ratings = round(total / len_category, 2)\n",
    "    \n",
    "    cat_val_as_tuple = (avg_ratings, category)\n",
    "    g_table_display.append(cat_val_as_tuple)\n",
    "\n",
    "g_table_sorted = sorted(g_table_display, reverse = True)\n",
    "for entry in g_table_sorted:\n",
    "    print(entry[1], ':', entry[0])"
   ]
  },
  {
   "cell_type": "markdown",
   "metadata": {},
   "source": [
    "### Recommendation based on Google Store apps"
   ]
  },
  {
   "cell_type": "markdown",
   "metadata": {},
   "source": [
    "Based on the average number of installs per app in the Google app store, communication apps tower above the rest (38.3M+), followed by video players (24.8M+) and social (23.3M+). After these categories, the average installs drops substantially (17.8M and below). Once again, before making a recommendation to the company, it would be useful to see how much the top apps in these categories influence the average.\n",
    "\n",
    "We'll do so once more by looking at the first few entries with each genre label."
   ]
  },
  {
   "cell_type": "code",
   "execution_count": 34,
   "metadata": {},
   "outputs": [
    {
     "name": "stdout",
     "output_type": "stream",
     "text": [
      "Messenger – Text and Video Chat for Free : 1,000,000,000+\n",
      "Messenger for SMS : 10,000,000+\n",
      "Gmail : 1,000,000,000+\n",
      "My Tele2 : 5,000,000+\n",
      "imo beta free calls and text : 100,000,000+\n",
      "imo free video calls and chat : 500,000,000+\n",
      "Contacts : 50,000,000+\n",
      "Call Free – Free Call : 5,000,000+\n",
      "Web Browser & Explorer : 5,000,000+\n",
      "Browser 4G : 10,000,000+\n",
      "MegaFon Dashboard : 10,000,000+\n",
      "ZenUI Dialer & Contacts : 10,000,000+\n",
      "Cricket Visual Voicemail : 10,000,000+\n",
      "TracFone My Account : 1,000,000+\n",
      "Xperia Link™ : 10,000,000+\n",
      "TouchPal Keyboard - Fun Emoji & Android Keyboard : 10,000,000+\n",
      "Skype Lite - Free Video Call & Chat : 5,000,000+\n",
      "My magenta : 1,000,000+\n",
      "Android Messages : 100,000,000+\n",
      "Google Duo - High Quality Video Calls : 500,000,000+\n",
      "Seznam.cz : 1,000,000+\n",
      "Antillean Gold Telegram (original version) : 100,000+\n",
      "AT&T Visual Voicemail : 10,000,000+\n",
      "GMX Mail : 10,000,000+\n",
      "Omlet Chat : 10,000,000+\n",
      "UC Browser - Fast Download Private & Secure : 500,000,000+\n",
      "My Vodacom SA : 5,000,000+\n",
      "Calls & Text by Mo+ : 5,000,000+\n",
      "Skype - free IM & video calls : 1,000,000,000+\n",
      "Who : 100,000,000+\n",
      "GO SMS Pro - Messenger, Free Themes, Emoji : 100,000,000+\n",
      "Messaging+ SMS, MMS Free : 1,000,000+\n",
      "chomp SMS : 10,000,000+\n",
      "Glide - Video Chat Messenger : 10,000,000+\n",
      "Text SMS : 10,000,000+\n",
      "Talkray - Free Calls & Texts : 10,000,000+\n",
      "GroupMe : 10,000,000+\n",
      "mysms SMS Text Messaging Sync : 1,000,000+\n",
      "2ndLine - Second Phone Number : 1,000,000+\n",
      "Ninesky Browser : 1,000,000+\n",
      "Dolphin Browser - Fast, Private & Adblock🐬 : 50,000,000+\n",
      "Ghostery Privacy Browser : 1,000,000+\n",
      "InBrowser - Incognito Browsing : 1,000,000+\n",
      "Lightning Web Browser : 500,000+\n",
      "Web Browser : 500,000+\n",
      "Contacts+ : 10,000,000+\n",
      "ExDialer - Dialer & Contacts : 10,000,000+\n",
      "PHONE for Google Voice & GTalk : 1,000,000+\n",
      "Safest Call Blocker : 1,000,000+\n",
      "Full Screen Caller ID : 5,000,000+\n",
      "Hiya - Caller ID & Block : 10,000,000+\n",
      "Call Blocker : 1,000,000+\n",
      "Mr. Number-Block calls & spam : 10,000,000+\n",
      "Should I Answer? : 1,000,000+\n",
      "RocketDial Dialer & Contacts : 1,000,000+\n",
      "CIA - Caller ID & Call Blocker : 5,000,000+\n",
      "Calls Blacklist - Call Blocker : 10,000,000+\n",
      "Call Control - Call Blocker : 5,000,000+\n",
      "True Contact - Real Caller ID : 1,000,000+\n",
      "Video Caller Id : 1,000,000+\n",
      "Sync.ME – Caller ID & Block : 5,000,000+\n",
      "Burner - Free Phone Number : 1,000,000+\n",
      "Caller ID + : 1,000,000+\n",
      "K-9 Mail : 5,000,000+\n",
      "myMail – Email for Hotmail, Gmail and Outlook Mail : 10,000,000+\n",
      "Email TypeApp - Mail App : 1,000,000+\n",
      "All Email Providers : 1,000,000+\n",
      "Newton Mail - Email App for Gmail, Outlook, IMAP : 1,000,000+\n",
      "GO Notifier : 10,000,000+\n",
      "Mail.Ru - Email App : 50,000,000+\n",
      "Mail1Click - Secure Mail : 10,000+\n",
      "Daum Mail - Next Mail : 5,000,000+\n",
      "mail.com mail : 1,000,000+\n",
      "SolMail - All-in-One email app : 500,000+\n",
      "Vonage Mobile® Call Video Text : 1,000,000+\n",
      "JusTalk - Free Video Calls and Fun Video Chat : 5,000,000+\n",
      "Azar : 50,000,000+\n",
      "LokLok: Draw on a Lock Screen : 500,000+\n",
      "WhatsApp Messenger : 1,000,000,000+\n",
      "Google Chrome: Fast & Secure : 1,000,000,000+\n",
      "Discord - Chat for Gamers : 10,000,000+\n",
      "Firefox Browser fast & private : 100,000,000+\n",
      "Microsoft Edge : 5,000,000+\n",
      "Messenger Lite: Free Calls & Messages : 100,000,000+\n",
      "LINE: Free Calls & Messages : 500,000,000+\n",
      "Hangouts : 1,000,000,000+\n",
      "AntennaPict β : 1,000,000+\n",
      "free video calls and chat : 50,000,000+\n",
      "Talkatone: Free Texts, Calls & Phone Number : 10,000,000+\n",
      "Kik : 100,000,000+\n",
      "K-@ Mail - Email App : 100,000+\n",
      "KakaoTalk: Free Calls & Text : 100,000,000+\n",
      "K-9 Material (unofficial) : 5,000+\n",
      "M star Dialer : 100,000+\n",
      "Free WiFi Connect : 10,000,000+\n",
      "m:go BiH : 10,000+\n",
      "N-Com Wizard : 50,000+\n",
      "Opera Mini - fast web browser : 100,000,000+\n",
      "Opera Browser: Fast and Secure : 100,000,000+\n",
      "Opera Mini browser beta : 10,000,000+\n",
      "Psiphon Pro - The Internet Freedom VPN : 10,000,000+\n",
      "ICQ — Video Calls & Chat Messenger : 10,000,000+\n",
      "Telegram : 100,000,000+\n",
      "AT&T Messages for Tablet : 1,000,000+\n",
      "T-Mobile DIGITS : 100,000+\n",
      "Truecaller: Caller ID, SMS spam blocking & Dialer : 100,000,000+\n",
      "Portable Wi-Fi hotspot : 10,000,000+\n",
      "AT&T Call Protect : 5,000,000+\n",
      "U - Webinars, Meetings & Messenger : 500,000+\n",
      "UC Browser Mini -Tiny Fast Private & Secure : 100,000,000+\n",
      "/u/app : 10,000+\n",
      "[verify-U] VideoIdent : 10,000+\n",
      "Viber Messenger : 500,000,000+\n",
      "WeChat : 100,000,000+\n",
      "WhatsApp Business : 10,000,000+\n",
      "WhatsCall Free Global Phone Call App & Cheap Calls : 10,000,000+\n",
      "X Browser : 50,000+\n",
      "Yahoo Mail – Stay Organized : 100,000,000+\n",
      "Free Adblocker Browser - Adblock & Popup Blocker : 10,000,000+\n",
      "Adblock Browser for Android : 10,000,000+\n",
      "CM Browser - Ad Blocker , Fast Download , Privacy : 50,000,000+\n",
      "Adblock Plus for Samsung Internet - Browse safe. : 1,000,000+\n",
      "Ad Blocker Turbo - Adblocker Browser : 10,000+\n",
      "Brave Browser: Fast AdBlocker : 5,000,000+\n",
      "AG Contacts, Lite edition : 5,000+\n",
      "Oklahoma Ag Co-op Council : 10+\n",
      "Bee'ah Employee App : 100+\n",
      "tournaments and more.aj.2 : 100+\n",
      "Aj.Petra : 100+\n",
      "AK Phone : 5,000+\n",
      "PlacarTv Futebol Ao Vivo : 100,000+\n",
      "WiFi Access Point (hotspot) : 100,000+\n",
      "Access Point Names : 10,000+\n",
      "Puffin Web Browser : 10,000,000+\n",
      "ClanHQ : 10,000+\n",
      "Ear Agent: Super Hearing : 5,000,000+\n",
      "Google Voice : 10,000,000+\n",
      "Google Allo : 10,000,000+\n",
      "AU Call Blocker - Block Unwanted Calls Texts 2018 : 1,000+\n",
      "Baby Monitor AV : 100,000+\n",
      "AV Phone : 1,000+\n",
      "AW - free video calls and chat : 1,000,000+\n",
      "Katalogen.ax : 100+\n",
      "AZ Browser. Private & Download : 100,000+\n",
      "BA SALES : 1+\n",
      "BD Data Plan (3G & 4G) : 500,000+\n",
      "BD Internet Packages (Updated) : 50,000+\n",
      "BD Dialer : 10,000+\n",
      "BD Live Call : 5,000+\n",
      "Best Browser BD social networking : 10+\n",
      "Traffic signs BD : 500+\n",
      "BF Browser by Betfilter - Stop Gambling Today! : 10,000+\n",
      "My BF App : 50,000+\n",
      "BH Mail : 1,000+\n",
      "Zalo – Video Call : 50,000,000+\n",
      "BJ - Confidential : 10+\n",
      "BK Chat : 1,000+\n",
      "Of the wall Arapaho bk : 5+\n",
      "AC-BL : 50+\n",
      "BBM - Free Calls & Messages : 100,000,000+\n",
      "DMR BrandMeister Tool : 10,000+\n",
      "BBMoji - Your personalized BBM Stickers : 1,000,000+\n",
      "BN MALLORCA Radio : 1,000+\n",
      "BQ Partners : 1,000+\n",
      "BS-Mobile : 50+\n",
      "ATC Unico BS : 500+\n",
      "BT One Voice mobile access : 5,000+\n",
      "BT Messenger : 50,000+\n",
      "BT One Phone Mobile App : 10,000+\n",
      "SW-100.tch by Callstel : 1,000,000+\n",
      "BT MeetMe with Dolby Voice : 100,000+\n",
      "Bluetooth Auto Connect : 5,000,000+\n",
      "AudioBT: BT audio GPS/SMS/Text : 50,000+\n",
      "BV : 100+\n",
      "Feel Performer : 10,000+\n",
      "Tiny Call Confirm : 1,000,000+\n",
      "CB Radio Chat - for friends! : 1,000,000+\n",
      "CB On Mobile : 100,000+\n",
      "Virtual Walkie Talkie : 1,000,000+\n",
      "Channel 19 : 100,000+\n",
      "Cb browser : 50+\n",
      "CF Chat: Connecting Friends : 100+\n",
      "retteMi.ch : 5,000+\n",
      "Chrome Dev : 5,000,000+\n",
      "CJ Browser - Fast & Private : 100+\n",
      "CJ DVD Rentals : 100+\n",
      "CK Call NEW : 10+\n",
      "CM Transfer - Share any files with friends nearby : 5,000,000+\n",
      "mail.co.uk Mail : 5,000+\n",
      "ClanPlay: Community and Tools for Gamers : 1,000,000+\n",
      "CQ-Mobile : 1,000+\n",
      "CQ-Alert : 500+\n",
      "QRZ Assistant : 100,000+\n",
      "Pocket Prefix Plus : 10,000+\n",
      "Ham Radio Prefixes : 10,000+\n",
      "CS Customizer : 1,000+\n",
      "CS Browser | #1 & BEST BROWSER : 1,000+\n",
      "CS Browser Beta : 5,000+\n",
      "My Vodafone (GR) : 1,000,000+\n",
      "IZ2UUF Morse Koch CW : 50,000+\n",
      "C W Browser : 100+\n",
      "CW Bluetooth SPP : 100+\n",
      "CW BLE Peripheral Simulator : 500+\n",
      "Morse Code Reader : 100,000+\n",
      "Learn Morse Code - G0HYN Learn Morse : 5,000+\n",
      "Ring : 10,000+\n",
      "Hyundai CX Conference : 50+\n",
      "Cy Messenger : 100+\n",
      "Amadeus GR & CY : 100+\n",
      "Hlášenírozhlasu.cz : 10+\n",
      "SMS Sender - sluzba.cz : 1,000+\n",
      "WEB.DE Mail : 10,000,000+\n",
      "Your Freedom VPN Client : 5,000,000+\n",
      "CallApp: Caller ID, Blocker & Phone Call Recorder : 10,000,000+\n",
      "Rádio Sol Nascente DF : 500+\n",
      "DG Card : 100+\n",
      "Whoscall - Caller ID & Block : 10,000,000+\n",
      "DK Browser : 10+\n",
      "cluster.dk : 1,000+\n",
      "DK TEL Dialer : 50+\n",
      "DM for WhatsApp : 5,000+\n",
      "DM Talk New : 5,000+\n",
      "DM - The Offical Messaging App : 10+\n",
      "DM Tracker : 1,000+\n",
      "Call Blocker & Blacklist : 1,000+\n",
      "ReadyOp DT : 1,000+\n",
      "DU Browser—Browse fast & fun : 10,000,000+\n",
      "Caller ID & Call Block - DU Caller : 5,000,000+\n",
      "BlueDV AMBE : 1,000+\n",
      "DW Contacts & Phone & Dialer : 1,000,000+\n",
      "Deaf World DW : 10,000+\n",
      "Ham DX Cluster & Spots Finder : 5,000+\n",
      "Mircules DX Cluster Lite : 5,000+\n",
      "3G DZ Configuration : 50,000+\n",
      "chat dz : 100+\n",
      "love sms good morning : 5,000+\n",
      "Goodbox - Mega App : 100,000+\n",
      "Call Blocker - Blacklist, SMS Blocker : 1,000,000+\n",
      "[EF]ShoutBox : 100+\n",
      "Eg Call : 10,000+\n",
      "ei : 10+\n",
      "EJ messenger : 10+\n",
      "Ek IRA : 10+\n",
      "Orfox: Tor Browser for Android : 10,000,000+\n",
      "EO Mumbai : 10+\n",
      "EP RSS Reader : 100+\n",
      "Voxer Walkie Talkie Messenger : 10,000,000+\n",
      "ES-1 : 500+\n",
      "Hangouts Dialer - Call Phones : 10,000,000+\n",
      "EU Council : 1,000+\n",
      "Council Voting Calculator : 5,000+\n",
      "Have your say on Europe : 500+\n",
      "Programi podrške EU : 100+\n",
      "Inbox.eu : 10,000+\n",
      "Web Browser for Android : 1,000,000+\n",
      "Everbridge : 100,000+\n",
      "Best Auto Call Recorder Free : 500+\n",
      "EZ Wifi Notification : 10,000+\n",
      "Test Server SMS FA : 5+\n",
      "Lite for Facebook Messenger : 1,000,000+\n",
      "FC Browser - Focus Privacy Browser : 1,000+\n",
      "EHiN-FH conferenceapp : 100+\n",
      "Carpooling FH Hagenberg : 100+\n",
      "Wi-Fi Auto-connect : 1,000,000+\n",
      "Talkie - Wi-Fi Calling, Chats, File Sharing : 500,000+\n",
      "WeFi - Free Fast WiFi Connect & Find Wi-Fi Map : 1,000,000+\n",
      "Sat-Fi : 5,000+\n",
      "Portable Wi-Fi hotspot Free : 100,000+\n",
      "TownWiFi | Wi-Fi Everywhere : 500,000+\n",
      "Jazz Wi-Fi : 10,000+\n",
      "Sat-Fi Voice : 1,000+\n",
      "Free Wi-fi HotspoT : 50,000+\n",
      "FN Web Radio : 10+\n",
      "FNH Payment Info : 10+\n",
      "MARKET FO : 100+\n",
      "FO OP St-Nazaire : 100+\n",
      "FO SODEXO : 100+\n",
      "FO RCBT : 100+\n",
      "FO Interim : 100+\n",
      "FO PSA Sept-Fons : 100+\n",
      "FO AIRBUS TLSE : 1,000+\n",
      "FO STELIA Méaulte : 100+\n",
      "FO AIRBUS Nantes : 100+\n",
      "Firefox Focus: The privacy browser : 1,000,000+\n",
      "FP Connect : 100+\n",
      "FreedomPop Messaging Phone/SIM : 500,000+\n",
      "FP Live : 10+\n",
      "HipChat - beta version : 50,000+\n"
     ]
    }
   ],
   "source": [
    "for app in google_clean_3:\n",
    "    if app[1] == 'COMMUNICATION':\n",
    "        print(app[0], ':', app[5]) # print name and number installs"
   ]
  },
  {
   "cell_type": "markdown",
   "metadata": {},
   "source": [
    "The top apps in communication are very popular, but many other apps in this category are also quite popular, including web browsers, messaging apps, and keyboards. Therefore, communication apps offer potential for our purposes."
   ]
  },
  {
   "cell_type": "code",
   "execution_count": 35,
   "metadata": {},
   "outputs": [
    {
     "name": "stdout",
     "output_type": "stream",
     "text": [
      "All Video Downloader 2018 : 1,000,000+\n",
      "HD Video Player : 1,000,000+\n",
      "Iqiyi (for tablet) : 1,000,000+\n",
      "Motorola Gallery : 100,000,000+\n",
      "Free TV series : 100,000+\n",
      "Video Player All Format for Android : 500,000+\n",
      "Code : 10,000,000+\n",
      "Vote for : 50,000,000+\n",
      "XX HD Video downloader-Free Video Downloader : 1,000,000+\n",
      "OBJECTIVE : 1,000,000+\n",
      "Music - Mp3 Player : 10,000,000+\n",
      "HD Movie Video Player : 1,000,000+\n",
      "YouCut - Video Editor & Video Maker, No Watermark : 5,000,000+\n",
      "Video Editor,Crop Video,Movie Video,Music,Effects : 1,000,000+\n",
      "video player for android : 10,000,000+\n",
      "Google Play Movies & TV : 1,000,000,000+\n",
      "HTC Service － DLNA : 10,000,000+\n",
      "VPlayer : 1,000,000+\n",
      "MiniMovie - Free Video and Slideshow Editor : 50,000,000+\n",
      "Samsung Video Library : 50,000,000+\n",
      "OnePlus Gallery : 1,000,000+\n",
      "LIKE – Magic Video Maker & Community : 50,000,000+\n",
      "HTC Service—Video Player : 5,000,000+\n",
      "Play Tube : 1,000,000+\n",
      "Droid Zap by Motorola : 5,000,000+\n",
      "video player : 1,000,000+\n",
      "G Guide Program Guide (SOFTBANK EMOBILE WILLCOM version) : 1,000,000+\n",
      "Video.Guru - Video Maker : 1,000,000+\n",
      "HTC Gallery : 10,000,000+\n",
      "Video Status : 1,000,000+\n",
      "Video Wallpaper Show : 500+\n",
      "SVT Play : 1,000,000+\n",
      "BluTV : 1,000,000+\n",
      "Tencent Video - Supporting the whole network : 1,000,000+\n",
      "Casper Ssinema : 10,000+\n",
      "amazer - Global Kpop Video Community : 100,000+\n",
      "Omlet Arcade - Stream, Meet, Play : 10,000,000+\n",
      "VUE: video editor & camcorder : 1,000,000+\n",
      "Magisto Video Editor & Maker : 10,000,000+\n",
      "YouTube : 1,000,000,000+\n",
      "Dubsmash : 100,000,000+\n",
      "DU Recorder – Screen Recorder, Video Editor, Live : 50,000,000+\n",
      "KineMaster – Pro Video Editor : 50,000,000+\n",
      "PowerDirector Video Editor App: 4K, Slow Mo & More : 10,000,000+\n",
      "Mobizen Screen Recorder for SAMSUNG : 10,000,000+\n",
      "Mobizen Screen Recorder for LG - Record, Capture : 1,000,000+\n",
      "M-Sight Pro : 5,000+\n",
      "MX Player : 500,000,000+\n",
      "Sketch 'n' go : 100,000+\n",
      "Q-See Plus : 5,000+\n",
      "Ustream : 10,000,000+\n",
      "VMate : 50,000,000+\n",
      "VLC for Android : 100,000,000+\n",
      "All Video Downloader : 10,000,000+\n",
      "VidPlay : 1,000,000+\n",
      "HD Video Downloader : 2018 Best video mate : 50,000,000+\n",
      "Vigo Video : 50,000,000+\n",
      "VivaVideo - Video Editor & Photo Movie : 100,000,000+\n",
      "VideoShow-Video Editor, Video Maker, Beauty Camera : 100,000,000+\n",
      "W Box VMS : 10,000+\n",
      "W Box VMS HD : 5,000+\n",
      "YouTube Studio : 10,000,000+\n",
      "AB Repeat Player : 100,000+\n",
      "A-B repeater : 5,000+\n",
      "Ez Screen Recorder (no ad) : 100,000+\n",
      "Adobe Premiere Clip : 5,000,000+\n",
      "FilmoraGo - Free Video Editor : 10,000,000+\n",
      "ActionDirector Video Editor - Edit Videos Fast : 5,000,000+\n",
      "AJ Player : 100+\n",
      "AK Lodi Films : 100+\n",
      "WiFi Baby Monitor - NannyCam : 5,000,000+\n",
      "Ringdroid : 50,000,000+\n",
      "Multiple Videos at Same Time : 1,000,000+\n",
      "AV-IPTV : 1,000+\n",
      "Video Player All Format : 10,000,000+\n",
      "HD Video Player (wmv,avi,mp4,flv,av,mpg,mkv)2017 : 10,000+\n",
      "HD Video Player - Video & MP3 Player | AV Player | : 5,000+\n",
      "EML UPnP-AV Control Point : 10,000+\n",
      "AW Screen Recorder No Root : 100,000+\n",
      "Video Editor : 100,000+\n",
      "AX Player -Nougat Video Player : 1,000,000+\n",
      "AX Video Player : 50,000+\n",
      "Ay : 5,000+\n",
      "Ay Sabz Gunbad Waly : 1,000+\n",
      "iMediaShare – Photos & Music : 10,000,000+\n",
      "AZ Screen Recorder - No Root : 10,000,000+\n",
      "Movie Downloader Torrent : Az Torrent : 1,000+\n",
      "A-Z Screen Recorder - : 500+\n",
      "BC iptv player : 1,000+\n",
      "Bc Vod : 100+\n",
      "Funny videos for whatsapp : 1,000,000+\n",
      "BG video - floating video - background video : 5,000+\n",
      "BG MUSIC PLAYER - MUSIC PLAYER : 100+\n",
      "bgtime.tv : 50,000+\n",
      "YourTube Video Views BG : 500+\n",
      "Music for Youtube - Tube Music BG, Red+ : 1,000+\n",
      "BGCN TV : 100,000+\n",
      "AfreecaTV : 10,000,000+\n",
      "BK News Channel : 10,000+\n",
      "BR Video Player : 5,000+\n",
      "BR Series : 50,000+\n",
      "CINE BR : 1,000+\n",
      "iPlayIT for YouTube VR Player : 1,000,000+\n",
      "BSPlayer FREE : 10,000,000+\n",
      "BSPlayer ARMv7 VFP CPU support : 1,000,000+\n",
      "BS player remote : 10,000+\n",
      "BitTorrent®- Torrent Downloads : 10,000,000+\n",
      "Bx-WiFi-GI : 100+\n",
      "BZ Langenthaler Tagblatt : 1,000+\n",
      "Nero AirBurn : 100,000+\n",
      "CI Stream : 10+\n",
      "CJ Camcorder : 500+\n",
      "CJ VLC HD Remote (+ Stream) : 500,000+\n",
      "ACTIVEON CX & CX GOLD : 50,000+\n",
      "CX Monthly Tech News : 500+\n",
      "DG UPnP Player Free : 10,000+\n",
      "DG Screen Recorder : 500+\n",
      "DG Video Editor : 10,000+\n",
      "Video Downloader - for Instagram Repost App : 10,000,000+\n",
      "Quik – Free Video Editor for photos, clips, music : 10,000,000+\n",
      "FrostWire: Torrent Downloader & Music Player : 10,000,000+\n",
      "Video Downloader : 10,000,000+\n",
      "Inst Download - Video & Photo : 10,000,000+\n",
      "Vuze Torrent Downloader : 1,000,000+\n",
      "AndStream - Streaming Download : 1,000,000+\n",
      "DR TV : 500,000+\n",
      "DS photo : 1,000,000+\n",
      "DS video : 1,000,000+\n",
      "DU Privacy-hide apps、sms、file : 1,000,000+\n",
      "iSmart DV : 1,000,000+\n",
      "dv Prompter : 50,000+\n",
      "DV Lottery Photo : 5,000+\n",
      "MelifeCam-M : 10,000+\n",
      "GoPlus Cam : 500,000+\n",
      "GoAction : 100,000+\n",
      "4K VIDEO PLAYER ULTRA HD : 5,000+\n",
      "Downvids Helper - One touch DW : 10,000+\n",
      "DZ Popup Video Player : 5,000+\n",
      "EC MANAGER : 100+\n",
      "EF Sidekick : 5,000+\n",
      "ek tuhi : 10,000+\n",
      "Naruto Shippuden - Watch Free! : 10,000,000+\n",
      "ES Audio Player ( Shortcut ) : 100,000+\n",
      "Furrion ES Control : 5,000+\n",
      "ES-IPTV : 50,000+\n",
      "EZCast – Cast Media to TV : 1,000,000+\n",
      "EZ Web Video Cast | Chromecast : 100,000+\n",
      "EZ-SEE : 10,000+\n",
      "EZ TV Player : 10,000+\n",
      "EZ Usenet for Easynews® : 10,000+\n",
      "EZ game screen recorder with audio 1080P : 1,000+\n",
      "Videos downloader for Facebook:fast fb video saver : 5,000+\n",
      "Video Downloader for FB : Video Download with Link : 100,000+\n",
      "HD VideoDownlaoder For Fb : XXVideo Downloader : 10,000+\n",
      "HD Video Download for Facebook : 1,000,000+\n",
      "Art of F J Taylor : 10+\n",
      "Motorola FM Radio : 100,000,000+\n",
      "List iptv FR : 100+\n"
     ]
    }
   ],
   "source": [
    "for app in google_clean_3:\n",
    "    if app[1] == 'VIDEO_PLAYERS':\n",
    "        print(app[0], ':', app[5]) # print name and number installs"
   ]
  },
  {
   "cell_type": "markdown",
   "metadata": {},
   "source": [
    "Among apps in the category 'Video Players', there are quite a few popular video editors and downloaders. This kind of app could be a very valuable choice."
   ]
  },
  {
   "cell_type": "code",
   "execution_count": 36,
   "metadata": {
    "scrolled": false
   },
   "outputs": [
    {
     "name": "stdout",
     "output_type": "stream",
     "text": [
      "Social network all in one 2018 : 100,000+\n",
      "TextNow - free text + calls : 10,000,000+\n",
      "The Messenger App : 1,000,000+\n",
      "Messenger Pro : 1,000,000+\n",
      "Free Messages, Video, Chat,Text for Messenger Plus : 1,000,000+\n",
      "The Video Messenger App : 100,000+\n",
      "Jodel - The Hyperlocal App : 1,000,000+\n",
      "Hide Something - Photo, Video : 5,000,000+\n",
      "Love Sticker : 1,000,000+\n",
      "Web Browser & Fast Explorer : 5,000,000+\n",
      "VidStatus app - Status Videos & Status Downloader : 5,000,000+\n",
      "Love Images : 1,000,000+\n",
      "Web Browser ( Fast & Secure Web Explorer) : 500,000+\n",
      "SPARK - Live random video chat & meet new people : 5,000,000+\n",
      "Golden telegram : 50,000+\n",
      "Facebook Local : 1,000,000+\n",
      "Meet – Talk to Strangers Using Random Video Chat : 5,000,000+\n",
      "MobilePatrol Public Safety App : 1,000,000+\n",
      "💘 WhatsLov: Smileys of love, stickers and GIF : 1,000,000+\n",
      "HTC Social Plugin - Facebook : 10,000,000+\n",
      "Kate Mobile for VK : 10,000,000+\n",
      "Family GPS tracker KidControl + GPS by SMS Locator : 1,000,000+\n",
      "Moment : 1,000,000+\n",
      "Text Me: Text Free, Call Free, Second Phone Number : 10,000,000+\n",
      "Tango - Live Video Broadcast : 100,000,000+\n",
      "Whisper : 5,000,000+\n",
      "Blogger : 5,000,000+\n",
      "Bloglovin' : 500,000+\n",
      "Blogaway for Android (Blogger) : 100,000+\n",
      "TwitCasting Live : 1,000,000+\n",
      "Stream - Live Video Community : 500,000+\n",
      "YouNow: Live Stream Video Chat : 10,000,000+\n",
      "Mirrativ: Live Stream Any App : 500,000+\n",
      "Banjo : 1,000,000+\n",
      "ooVoo Video Calls, Messaging & Stories : 50,000,000+\n",
      "Timehop : 5,000,000+\n",
      "Frontback - Social Photos : 1,000,000+\n",
      "LinkedIn : 100,000,000+\n",
      "Path : 10,000,000+\n",
      "SayHi Chat, Meet New People : 10,000,000+\n",
      "Tapatalk - 100,000+ Forums : 10,000,000+\n",
      "Couple - Relationship App : 1,000,000+\n",
      "Nextdoor - Local neighborhood news & classifieds : 5,000,000+\n",
      "LOVOO : 10,000,000+\n",
      "Jaumo Dating, Flirt & Live Video : 10,000,000+\n",
      "Patook - make platonic friends : 100,000+\n",
      "textPlus: Free Text & Calls : 10,000,000+\n",
      "magicApp Calling & Messaging : 10,000,000+\n",
      "uCiC- Videos and Photos on demand : 100,000+\n",
      "Meetup : 5,000,000+\n",
      "Tagged - Meet, Chat & Dating : 10,000,000+\n",
      "SKOUT - Meet, Chat, Go Live : 50,000,000+\n",
      "Mico- Stranger Chat Random video Chat, Live, Meet : 10,000,000+\n",
      "Waplog - Free Chat, Dating App, Meet Singles : 10,000,000+\n",
      "Snapchat : 500,000,000+\n",
      "Instagram : 1,000,000,000+\n",
      "Facebook : 1,000,000,000+\n",
      "Tik Tok - including musical.ly : 100,000,000+\n",
      "B-Messenger Video Chat : 1,000,000+\n",
      "BIGO LIVE - Live Stream : 100,000,000+\n",
      "Greeting Cards & Wishes : 500,000+\n",
      "Pinterest : 100,000,000+\n",
      "Facebook Lite : 500,000,000+\n",
      "Google+ : 1,000,000,000+\n",
      "Share G - Images Sharing - Wallpapers App : 10,000+\n",
      "H letter images : 1,000+\n",
      "POF Free Dating App : 50,000,000+\n",
      "Text Free: WiFi Calling App : 5,000,000+\n",
      "Instachat 😜 : 5,000,000+\n",
      "Fame Boom for Real Followers, Likes : 5,000,000+\n",
      "FollowMeter for Instagram : 1,000,000+\n",
      "Mali J : 10,000+\n",
      "KDRAMA Amino for K-Drama Fans : 100,000+\n",
      "KPOP Amino for K-Pop Entertainment : 100,000+\n",
      "LiveMe - Video chat, new friends, and make money : 10,000,000+\n",
      "EXO-L Amino for EXO Fans : 50,000+\n",
      "Verdad o Reto : 500,000+\n",
      "pixiv : 1,000,000+\n",
      "Quora : 10,000,000+\n",
      "Join R, Community Engagement : 1,000+\n",
      "Tumblr : 100,000,000+\n",
      "U LIVE – Video Chat & Stream : 1,000,000+\n",
      "See U - Random video chat, video chat : 100,000+\n",
      "What U See : 100,000+\n",
      "U-Report : 10,000+\n",
      "Meet U - Get Friends for Snapchat, Kik & Instagram : 100,000+\n",
      "VMate Lite - Funny Short Videos Social Network : 1,000,000+\n",
      "V Bucks ProTips New : 1,000+\n",
      "Dating App, Flirt & Chat : W-Match : 10,000,000+\n",
      "We Heart It : 10,000,000+\n",
      "Telegram X : 5,000,000+\n",
      "Zello PTT Walkie Talkie : 50,000,000+\n",
      "i-share AF/KLM (AFKL ishare) : 100+\n",
      "Eternal Light AG : 100+\n",
      "Message AI - Write Better Messages (Free) : 100+\n",
      "Jamaa Amino for Animal Jam : 10,000+\n",
      "Text free - Free Text + Call : 10,000,000+\n",
      "Legend - Animate Text in Video : 10,000,000+\n",
      "GUYZ - Gay Chat & Gay Dating : 1,000,000+\n",
      "eChallan Andhra Pradesh (AP) : 1,000+\n",
      "Snaappy – 3D fun AR core communication platform : 1,000,000+\n",
      "Undertale AU Amino : 50,000+\n",
      "Au Pair : 10,000+\n",
      "Media Sosial TNI AU : 1,000+\n",
      "BA 3 Banjarmasin : 10+\n",
      "iCard BD Plus : 500+\n",
      "Movement BE : 100+\n",
      "YAY - TBH : 100,000+\n",
      "Find My Friends : 10,000,000+\n",
      "BG LINKED (BGLINKED) : 1,000+\n",
      "Zdravei.BG : 1,000+\n",
      "BGKontakti London BG Kontakti : 500+\n",
      "BGKontakti Bayern BG Kontakti : 1,000+\n",
      "BGKontakti Vienna BG Kontakti : 1,000+\n",
      "Discípulos em BH : 100+\n",
      "BH Connect : 1+\n",
      "Gayvox - Gay Lesbian Bi Dating : 500,000+\n",
      "Grindr - Gay chat : 10,000,000+\n",
      "Lesbian Chat & Dating - SPICY : 1,000,000+\n",
      "MeetMe: Chat & Meet New People : 50,000,000+\n",
      "Alumni BJ : 100+\n",
      "VK : 100,000,000+\n",
      "BK Traffic Control cum Chart : 10,000+\n",
      "Daily Murli Saar Widget : 10,000+\n",
      "Myjob@BM : 100+\n",
      "bm-Events : 10+\n",
      "Badoo - Free Chat & Dating App : 100,000,000+\n",
      "BOO! - Next Generation Messenger : 1,000,000+\n",
      "Wishbone - Compare Anything : 1,000,000+\n",
      "BR Chat Bot : 1,000+\n",
      "Br Browser : 500+\n",
      "Dr B R Ambedkar (Jai Bhim) : 100,000+\n",
      "Dr. B.R.Ambedkar : 100,000+\n",
      "Black Social : 1,000+\n",
      "BT Communicator : 10,000+\n",
      "BT Dating -Find your match, help cupid, be social : 50,000+\n",
      "Fiesta by Tango - Find, Meet and Make New Friends : 1,000,000+\n",
      "Evasion.bz : 100+\n",
      "CB Heroes : 5+\n",
      "CG Districts : 1,000+\n",
      "Digi-TV.ch : 10,000+\n",
      "Students.ch : 1,000+\n",
      "CJ Gospel Hour : 100+\n",
      "Pekalongan CJ : 0+\n",
      "Hashtags For Likes.co : 50,000+\n",
      "CP Dialer : 50,000+\n",
      "C.P. CERVANTES (TOBARRA) : 5+\n",
      "Cyprus Police : 10,000+\n",
      "Rande.cz : 50,000+\n",
      "signály.cz : 1,000+\n",
      "DB Event App : 5,000+\n",
      "DC Comics Amino : 1,000+\n",
      "DF BugMeNot : 500+\n",
      "Noticias DF : 1,000+\n",
      "Periscope - Live Video : 10,000,000+\n",
      "Daddyhunt: Gay Dating : 500,000+\n",
      "Free phone calls, free texting SMS on free number : 10,000,000+\n",
      "Phone Tracker : Family Locator : 10,000,000+\n",
      "HOLLA Live: Meet New People via Random Video Chat : 5,000,000+\n",
      "Dating.dk : 100,000+\n",
      "DK Murali : 500+\n",
      "GirlTalk.dk : 100+\n",
      "+Download 4 Instagram Twitter : 1,000,000+\n",
      "DM Me - Chat : 10,000+\n",
      "DM for IG 😘 - Image & Video Saver for Instagram : 5,000+\n",
      "Auto DM for Twitter 🔥 : 1,000+\n",
      "DM Storage (for twitter) : 100+\n",
      "Fake Chat (Direct Message) : 500,000+\n",
      "Otto DM : 10+\n",
      "DN Blog : 10+\n",
      "DP and Status for WhatsApp 2018 : 100,000+\n",
      "Dp For Whatsapp : 5,000+\n",
      "Profile Pictures and DP for Whatsapp : 5,000+\n",
      "Dp for Facebook : 5,000+\n",
      "Best DP and Status : 10,000+\n",
      "Instant DP Downloader for Instagram : 5,000+\n",
      "DP Display Pictures Life Quotes Motivational GM : 5,000+\n",
      "Qeek for Instagram - Zoom profile insta DP : 500,000+\n",
      "DV Statistics : 100+\n",
      "DW Streaming : 1,000+\n",
      "News Dz : 10+\n",
      "quran-DZ : 10+\n",
      "TN e Sevai TN EB Bill Patta Citta EC Birth All Hub : 5,000+\n",
      "TNEB Bill Online Payment (Tamil) : 5,000+\n",
      "UP EB Bill Payment & Details : 50+\n",
      "TN EC Online New : 1,000+\n",
      "TN Patta /Chitta /EC New : 100+\n",
      "EG Way Life : 50+\n",
      "Equestria Amino for MLP : 50,000+\n",
      "Ek Maratha : 10,000+\n",
      "Hum Ek Hain 2.02 : 10+\n",
      "Sabka Malik Ek Sai : 1,000+\n",
      "EO RAIPUR : 10+\n",
      "Anime et Manga Amino en Français : 50,000+\n",
      "Hornet - Gay Social Network : 5,000,000+\n",
      "Amino: Communities and Chats : 10,000,000+\n",
      "European Solidarity Corps : 1,000+\n",
      "Reisedealz.eu : 10+\n",
      "Eddsworld Amino : 10,000+\n",
      "Rejoin Your Ex : 100+\n",
      "Amleen Ey : 1+\n",
      "Coupe Adhémar EY 2017 : 50+\n",
      "EZ Video Download for Facebook : 1,000,000+\n",
      "Messages, Text and Video Chat for Messenger : 10,000,000+\n",
      "All Social Networks : 1,000,000+\n",
      "Messenger Messenger : 10,000,000+\n",
      "Facebook Creator : 1,000,000+\n",
      "Swift for Facebook Lite : 500,000+\n",
      "Friendly for Facebook : 1,000,000+\n",
      "Faster for Facebook Lite : 1,000,000+\n",
      "Puffin for Facebook : 500,000+\n",
      "Profile Tracker - Who Viewed My Facebook Profile : 500,000+\n",
      "Pink Color for Facebook : 500,000+\n",
      "Messenger : 10,000,000+\n",
      "Stickers for Imo, fb, whatsapp : 10,000+\n",
      "Who Viewed My Facebook Profile - Stalkers Visitors : 5,000,000+\n",
      "Downloader plus for FB : 500+\n",
      "MB Notifications for FB (Free) : 100,000+\n",
      "Phoenix - Facebook & Messenger : 100,000+\n",
      "Faster Social for Facebook : 100,000+\n",
      "Check Your Visitors on FB ? : 5,000+\n",
      "Stickers for Facebook : 1,000,000+\n",
      "Lite Messenger for Facebook Lite : 10,000+\n",
      "Mini for Facebook lite : 10,000+\n",
      "FB Advanced Search : 50+\n",
      "funny Image Comments for FB : 5,000+\n",
      "Unlimited Group Links - Whatsapp, FB, Telegram : 10,000+\n",
      "FCB Connect - FC Barcelona : 50,000+\n",
      "Frases Cristianas de Esperanza y Fe : 100+\n",
      "FutureNet your social app : 100,000+\n",
      "Alarm.fo – choose your info : 1,000+\n",
      "FunForMobile Ringtones & Chat : 5,000,000+\n",
      "Chat For Strangers - Video Chat : 100,000+\n",
      "Fr Daoud Lamei : 100,000+\n",
      "Naruto & Boruto FR : 100+\n",
      "Frim: get new friends on local chat rooms : 5,000,000+\n"
     ]
    }
   ],
   "source": [
    "for app in google_clean_3:\n",
    "    if app[1] == 'SOCIAL':\n",
    "        print(app[0], ':', app[5]) # print name and number installs"
   ]
  },
  {
   "cell_type": "markdown",
   "metadata": {},
   "source": [
    "As on the Apple store, social apps including messaging, meetups, and dating are fairly popular, and they are not mainly coming from one provider. This suggests that creating one of these app types would be profitable."
   ]
  },
  {
   "cell_type": "markdown",
   "metadata": {},
   "source": [
    "Together, the results above suggest that there are many potential choices among communication, video, and social apps. The category that is least concentrated in a single popular app at present seems to be social. If our company created a dating or meetup app, it would be likely to maximize the number of app users."
   ]
  },
  {
   "cell_type": "markdown",
   "metadata": {},
   "source": [
    "## Conclusions"
   ]
  },
  {
   "cell_type": "markdown",
   "metadata": {},
   "source": [
    "Both the Apple and Google store numbers suggest that a communication app could be the best choice for a new, free app that could draw many users. The breakdown of apps in this category strongly suggests that a dating or meetup app would be a wise choice, given that the market is not too concentrated in a single app."
   ]
  },
  {
   "cell_type": "code",
   "execution_count": null,
   "metadata": {},
   "outputs": [],
   "source": []
  }
 ],
 "metadata": {
  "kernelspec": {
   "display_name": "Python 3",
   "language": "python",
   "name": "python3"
  },
  "language_info": {
   "codemirror_mode": {
    "name": "ipython",
    "version": 3
   },
   "file_extension": ".py",
   "mimetype": "text/x-python",
   "name": "python",
   "nbconvert_exporter": "python",
   "pygments_lexer": "ipython3",
   "version": "3.8.5"
  }
 },
 "nbformat": 4,
 "nbformat_minor": 4
}
